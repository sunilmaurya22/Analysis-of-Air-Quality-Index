{
 "cells": [
  {
   "cell_type": "markdown",
   "id": "91b0770e",
   "metadata": {},
   "source": [
    "## Importing Libraries"
   ]
  },
  {
   "cell_type": "code",
   "execution_count": 172,
   "id": "b16bf2f6",
   "metadata": {},
   "outputs": [],
   "source": [
    "## Imports\n",
    "import pandas as pd\n",
    "import matplotlib.pyplot as plt\n",
    "import seaborn as sns"
   ]
  },
  {
   "cell_type": "code",
   "execution_count": 173,
   "id": "84a43961",
   "metadata": {},
   "outputs": [
    {
     "data": {
      "text/html": [
       "<div>\n",
       "<style scoped>\n",
       "    .dataframe tbody tr th:only-of-type {\n",
       "        vertical-align: middle;\n",
       "    }\n",
       "\n",
       "    .dataframe tbody tr th {\n",
       "        vertical-align: top;\n",
       "    }\n",
       "\n",
       "    .dataframe thead th {\n",
       "        text-align: right;\n",
       "    }\n",
       "</style>\n",
       "<table border=\"1\" class=\"dataframe\">\n",
       "  <thead>\n",
       "    <tr style=\"text-align: right;\">\n",
       "      <th></th>\n",
       "      <th>Numerical Values of AQI</th>\n",
       "      <th>Color</th>\n",
       "      <th>Air Quality Index Level of Health concern</th>\n",
       "    </tr>\n",
       "  </thead>\n",
       "  <tbody>\n",
       "    <tr>\n",
       "      <th>0</th>\n",
       "      <td>0-50</td>\n",
       "      <td>Green</td>\n",
       "      <td>Good</td>\n",
       "    </tr>\n",
       "    <tr>\n",
       "      <th>1</th>\n",
       "      <td>51-100</td>\n",
       "      <td>Yellow</td>\n",
       "      <td>Moderate</td>\n",
       "    </tr>\n",
       "    <tr>\n",
       "      <th>2</th>\n",
       "      <td>101-150</td>\n",
       "      <td>Orange</td>\n",
       "      <td>Unhealthy for sensitive groups</td>\n",
       "    </tr>\n",
       "    <tr>\n",
       "      <th>3</th>\n",
       "      <td>151-200</td>\n",
       "      <td>Red</td>\n",
       "      <td>Unhealthy</td>\n",
       "    </tr>\n",
       "    <tr>\n",
       "      <th>4</th>\n",
       "      <td>201-300</td>\n",
       "      <td>Purple</td>\n",
       "      <td>Very Unhealthy</td>\n",
       "    </tr>\n",
       "    <tr>\n",
       "      <th>5</th>\n",
       "      <td>301-500</td>\n",
       "      <td>Maroon</td>\n",
       "      <td>Hazardous</td>\n",
       "    </tr>\n",
       "  </tbody>\n",
       "</table>\n",
       "</div>"
      ],
      "text/plain": [
       "  Numerical Values of AQI   Color Air Quality Index Level of Health concern\n",
       "0                    0-50   Green                                      Good\n",
       "1                  51-100  Yellow                                  Moderate\n",
       "2                 101-150  Orange            Unhealthy for sensitive groups\n",
       "3                 151-200     Red                                 Unhealthy\n",
       "4                 201-300  Purple                            Very Unhealthy\n",
       "5                 301-500  Maroon                                 Hazardous"
      ]
     },
     "execution_count": 173,
     "metadata": {},
     "output_type": "execute_result"
    }
   ],
   "source": [
    "Numerical_Values = ['0-50','51-100','101-150','151-200','201-300','301-500']\n",
    "color = ['Green','Yellow','Orange','Red','Purple','Maroon']\n",
    "Air_Quality_Index_Level_of_Health_concern = ['Good','Moderate','Unhealthy for sensitive groups','Unhealthy','Very Unhealthy','Hazardous']\n",
    "AQI_Info = pd.DataFrame({'Numerical Values of AQI':Numerical_Values,'Color':color,'Air Quality Index Level of Health concern':Air_Quality_Index_Level_of_Health_concern})\n",
    "AQI_Info"
   ]
  },
  {
   "cell_type": "markdown",
   "id": "3a377d77",
   "metadata": {},
   "source": [
    "# Data Analysis and Visualization"
   ]
  },
  {
   "cell_type": "markdown",
   "id": "71b0b904",
   "metadata": {},
   "source": [
    "## Read data"
   ]
  },
  {
   "cell_type": "code",
   "execution_count": 174,
   "id": "6ef7477f",
   "metadata": {},
   "outputs": [
    {
     "name": "stderr",
     "output_type": "stream",
     "text": [
      "C:\\ProgramData\\Anaconda3\\lib\\site-packages\\IPython\\core\\interactiveshell.py:3165: DtypeWarning: Columns (15) have mixed types.Specify dtype option on import or set low_memory=False.\n",
      "  has_raised = await self.run_ast_nodes(code_ast.body, cell_name,\n"
     ]
    }
   ],
   "source": [
    "city_day = pd.read_csv('city_day.csv')\n",
    "city_hour = pd.read_csv('city_hour.csv')\n",
    "station_day = pd.read_csv('station_day.csv')\n",
    "station_hour = pd.read_csv('station_hour.csv')\n",
    "stations = pd.read_csv('stations.csv')"
   ]
  },
  {
   "cell_type": "markdown",
   "id": "0f2e5f33",
   "metadata": {},
   "source": [
    "## Lets review the files one by one"
   ]
  },
  {
   "cell_type": "code",
   "execution_count": 175,
   "id": "670116d5",
   "metadata": {},
   "outputs": [
    {
     "name": "stdout",
     "output_type": "stream",
     "text": [
      "City Day Data (29531, 16)\n",
      "['City', 'Date', 'PM2.5', 'PM10', 'NO', 'NO2', 'NOx', 'NH3', 'CO', 'SO2', 'O3', 'Benzene', 'Toluene', 'Xylene', 'AQI', 'AQI_Bucket']\n"
     ]
    },
    {
     "data": {
      "text/html": [
       "<div>\n",
       "<style scoped>\n",
       "    .dataframe tbody tr th:only-of-type {\n",
       "        vertical-align: middle;\n",
       "    }\n",
       "\n",
       "    .dataframe tbody tr th {\n",
       "        vertical-align: top;\n",
       "    }\n",
       "\n",
       "    .dataframe thead th {\n",
       "        text-align: right;\n",
       "    }\n",
       "</style>\n",
       "<table border=\"1\" class=\"dataframe\">\n",
       "  <thead>\n",
       "    <tr style=\"text-align: right;\">\n",
       "      <th></th>\n",
       "      <th>City</th>\n",
       "      <th>Date</th>\n",
       "      <th>PM2.5</th>\n",
       "      <th>PM10</th>\n",
       "      <th>NO</th>\n",
       "      <th>NO2</th>\n",
       "      <th>NOx</th>\n",
       "      <th>NH3</th>\n",
       "      <th>CO</th>\n",
       "      <th>SO2</th>\n",
       "      <th>O3</th>\n",
       "      <th>Benzene</th>\n",
       "      <th>Toluene</th>\n",
       "      <th>Xylene</th>\n",
       "      <th>AQI</th>\n",
       "      <th>AQI_Bucket</th>\n",
       "    </tr>\n",
       "  </thead>\n",
       "  <tbody>\n",
       "    <tr>\n",
       "      <th>0</th>\n",
       "      <td>Ahmedabad</td>\n",
       "      <td>2015-01-01</td>\n",
       "      <td>NaN</td>\n",
       "      <td>NaN</td>\n",
       "      <td>0.92</td>\n",
       "      <td>18.22</td>\n",
       "      <td>17.15</td>\n",
       "      <td>NaN</td>\n",
       "      <td>0.92</td>\n",
       "      <td>27.64</td>\n",
       "      <td>133.36</td>\n",
       "      <td>0.00</td>\n",
       "      <td>0.02</td>\n",
       "      <td>0.00</td>\n",
       "      <td>NaN</td>\n",
       "      <td>NaN</td>\n",
       "    </tr>\n",
       "    <tr>\n",
       "      <th>1</th>\n",
       "      <td>Ahmedabad</td>\n",
       "      <td>2015-01-02</td>\n",
       "      <td>NaN</td>\n",
       "      <td>NaN</td>\n",
       "      <td>0.97</td>\n",
       "      <td>15.69</td>\n",
       "      <td>16.46</td>\n",
       "      <td>NaN</td>\n",
       "      <td>0.97</td>\n",
       "      <td>24.55</td>\n",
       "      <td>34.06</td>\n",
       "      <td>3.68</td>\n",
       "      <td>5.50</td>\n",
       "      <td>3.77</td>\n",
       "      <td>NaN</td>\n",
       "      <td>NaN</td>\n",
       "    </tr>\n",
       "    <tr>\n",
       "      <th>2</th>\n",
       "      <td>Ahmedabad</td>\n",
       "      <td>2015-01-03</td>\n",
       "      <td>NaN</td>\n",
       "      <td>NaN</td>\n",
       "      <td>17.40</td>\n",
       "      <td>19.30</td>\n",
       "      <td>29.70</td>\n",
       "      <td>NaN</td>\n",
       "      <td>17.40</td>\n",
       "      <td>29.07</td>\n",
       "      <td>30.70</td>\n",
       "      <td>6.80</td>\n",
       "      <td>16.40</td>\n",
       "      <td>2.25</td>\n",
       "      <td>NaN</td>\n",
       "      <td>NaN</td>\n",
       "    </tr>\n",
       "    <tr>\n",
       "      <th>3</th>\n",
       "      <td>Ahmedabad</td>\n",
       "      <td>2015-01-04</td>\n",
       "      <td>NaN</td>\n",
       "      <td>NaN</td>\n",
       "      <td>1.70</td>\n",
       "      <td>18.48</td>\n",
       "      <td>17.97</td>\n",
       "      <td>NaN</td>\n",
       "      <td>1.70</td>\n",
       "      <td>18.59</td>\n",
       "      <td>36.08</td>\n",
       "      <td>4.43</td>\n",
       "      <td>10.14</td>\n",
       "      <td>1.00</td>\n",
       "      <td>NaN</td>\n",
       "      <td>NaN</td>\n",
       "    </tr>\n",
       "    <tr>\n",
       "      <th>4</th>\n",
       "      <td>Ahmedabad</td>\n",
       "      <td>2015-01-05</td>\n",
       "      <td>NaN</td>\n",
       "      <td>NaN</td>\n",
       "      <td>22.10</td>\n",
       "      <td>21.42</td>\n",
       "      <td>37.76</td>\n",
       "      <td>NaN</td>\n",
       "      <td>22.10</td>\n",
       "      <td>39.33</td>\n",
       "      <td>39.31</td>\n",
       "      <td>7.01</td>\n",
       "      <td>18.89</td>\n",
       "      <td>2.78</td>\n",
       "      <td>NaN</td>\n",
       "      <td>NaN</td>\n",
       "    </tr>\n",
       "  </tbody>\n",
       "</table>\n",
       "</div>"
      ],
      "text/plain": [
       "        City        Date  PM2.5  PM10     NO    NO2    NOx  NH3     CO    SO2  \\\n",
       "0  Ahmedabad  2015-01-01    NaN   NaN   0.92  18.22  17.15  NaN   0.92  27.64   \n",
       "1  Ahmedabad  2015-01-02    NaN   NaN   0.97  15.69  16.46  NaN   0.97  24.55   \n",
       "2  Ahmedabad  2015-01-03    NaN   NaN  17.40  19.30  29.70  NaN  17.40  29.07   \n",
       "3  Ahmedabad  2015-01-04    NaN   NaN   1.70  18.48  17.97  NaN   1.70  18.59   \n",
       "4  Ahmedabad  2015-01-05    NaN   NaN  22.10  21.42  37.76  NaN  22.10  39.33   \n",
       "\n",
       "       O3  Benzene  Toluene  Xylene  AQI AQI_Bucket  \n",
       "0  133.36     0.00     0.02    0.00  NaN        NaN  \n",
       "1   34.06     3.68     5.50    3.77  NaN        NaN  \n",
       "2   30.70     6.80    16.40    2.25  NaN        NaN  \n",
       "3   36.08     4.43    10.14    1.00  NaN        NaN  \n",
       "4   39.31     7.01    18.89    2.78  NaN        NaN  "
      ]
     },
     "execution_count": 175,
     "metadata": {},
     "output_type": "execute_result"
    }
   ],
   "source": [
    "## city_day\n",
    "print(\"City Day Data\", city_day.shape)\n",
    "print(city_day.columns.tolist())\n",
    "city_day.head()"
   ]
  },
  {
   "cell_type": "code",
   "execution_count": 176,
   "id": "8f16674d",
   "metadata": {},
   "outputs": [
    {
     "name": "stdout",
     "output_type": "stream",
     "text": [
      "City Hour Data (707875, 16)\n",
      "['City', 'Datetime', 'PM2.5', 'PM10', 'NO', 'NO2', 'NOx', 'NH3', 'CO', 'SO2', 'O3', 'Benzene', 'Toluene', 'Xylene', 'AQI', 'AQI_Bucket']\n"
     ]
    },
    {
     "data": {
      "text/html": [
       "<div>\n",
       "<style scoped>\n",
       "    .dataframe tbody tr th:only-of-type {\n",
       "        vertical-align: middle;\n",
       "    }\n",
       "\n",
       "    .dataframe tbody tr th {\n",
       "        vertical-align: top;\n",
       "    }\n",
       "\n",
       "    .dataframe thead th {\n",
       "        text-align: right;\n",
       "    }\n",
       "</style>\n",
       "<table border=\"1\" class=\"dataframe\">\n",
       "  <thead>\n",
       "    <tr style=\"text-align: right;\">\n",
       "      <th></th>\n",
       "      <th>City</th>\n",
       "      <th>Datetime</th>\n",
       "      <th>PM2.5</th>\n",
       "      <th>PM10</th>\n",
       "      <th>NO</th>\n",
       "      <th>NO2</th>\n",
       "      <th>NOx</th>\n",
       "      <th>NH3</th>\n",
       "      <th>CO</th>\n",
       "      <th>SO2</th>\n",
       "      <th>O3</th>\n",
       "      <th>Benzene</th>\n",
       "      <th>Toluene</th>\n",
       "      <th>Xylene</th>\n",
       "      <th>AQI</th>\n",
       "      <th>AQI_Bucket</th>\n",
       "    </tr>\n",
       "  </thead>\n",
       "  <tbody>\n",
       "    <tr>\n",
       "      <th>0</th>\n",
       "      <td>Ahmedabad</td>\n",
       "      <td>01-01-2015 01:00</td>\n",
       "      <td>NaN</td>\n",
       "      <td>NaN</td>\n",
       "      <td>1.00</td>\n",
       "      <td>40.01</td>\n",
       "      <td>36.37</td>\n",
       "      <td>NaN</td>\n",
       "      <td>1.00</td>\n",
       "      <td>122.07</td>\n",
       "      <td>NaN</td>\n",
       "      <td>0.0</td>\n",
       "      <td>0.0</td>\n",
       "      <td>0.0</td>\n",
       "      <td>NaN</td>\n",
       "      <td>NaN</td>\n",
       "    </tr>\n",
       "    <tr>\n",
       "      <th>1</th>\n",
       "      <td>Ahmedabad</td>\n",
       "      <td>01-01-2015 02:00</td>\n",
       "      <td>NaN</td>\n",
       "      <td>NaN</td>\n",
       "      <td>0.02</td>\n",
       "      <td>27.75</td>\n",
       "      <td>19.73</td>\n",
       "      <td>NaN</td>\n",
       "      <td>0.02</td>\n",
       "      <td>85.90</td>\n",
       "      <td>NaN</td>\n",
       "      <td>0.0</td>\n",
       "      <td>0.0</td>\n",
       "      <td>0.0</td>\n",
       "      <td>NaN</td>\n",
       "      <td>NaN</td>\n",
       "    </tr>\n",
       "    <tr>\n",
       "      <th>2</th>\n",
       "      <td>Ahmedabad</td>\n",
       "      <td>01-01-2015 03:00</td>\n",
       "      <td>NaN</td>\n",
       "      <td>NaN</td>\n",
       "      <td>0.08</td>\n",
       "      <td>19.32</td>\n",
       "      <td>11.08</td>\n",
       "      <td>NaN</td>\n",
       "      <td>0.08</td>\n",
       "      <td>52.83</td>\n",
       "      <td>NaN</td>\n",
       "      <td>0.0</td>\n",
       "      <td>0.0</td>\n",
       "      <td>0.0</td>\n",
       "      <td>NaN</td>\n",
       "      <td>NaN</td>\n",
       "    </tr>\n",
       "    <tr>\n",
       "      <th>3</th>\n",
       "      <td>Ahmedabad</td>\n",
       "      <td>01-01-2015 04:00</td>\n",
       "      <td>NaN</td>\n",
       "      <td>NaN</td>\n",
       "      <td>0.30</td>\n",
       "      <td>16.45</td>\n",
       "      <td>9.20</td>\n",
       "      <td>NaN</td>\n",
       "      <td>0.30</td>\n",
       "      <td>39.53</td>\n",
       "      <td>153.58</td>\n",
       "      <td>0.0</td>\n",
       "      <td>0.0</td>\n",
       "      <td>0.0</td>\n",
       "      <td>NaN</td>\n",
       "      <td>NaN</td>\n",
       "    </tr>\n",
       "    <tr>\n",
       "      <th>4</th>\n",
       "      <td>Ahmedabad</td>\n",
       "      <td>01-01-2015 05:00</td>\n",
       "      <td>NaN</td>\n",
       "      <td>NaN</td>\n",
       "      <td>0.12</td>\n",
       "      <td>14.90</td>\n",
       "      <td>7.85</td>\n",
       "      <td>NaN</td>\n",
       "      <td>0.12</td>\n",
       "      <td>32.63</td>\n",
       "      <td>NaN</td>\n",
       "      <td>0.0</td>\n",
       "      <td>0.0</td>\n",
       "      <td>0.0</td>\n",
       "      <td>NaN</td>\n",
       "      <td>NaN</td>\n",
       "    </tr>\n",
       "  </tbody>\n",
       "</table>\n",
       "</div>"
      ],
      "text/plain": [
       "        City          Datetime  PM2.5  PM10    NO    NO2    NOx  NH3    CO  \\\n",
       "0  Ahmedabad  01-01-2015 01:00    NaN   NaN  1.00  40.01  36.37  NaN  1.00   \n",
       "1  Ahmedabad  01-01-2015 02:00    NaN   NaN  0.02  27.75  19.73  NaN  0.02   \n",
       "2  Ahmedabad  01-01-2015 03:00    NaN   NaN  0.08  19.32  11.08  NaN  0.08   \n",
       "3  Ahmedabad  01-01-2015 04:00    NaN   NaN  0.30  16.45   9.20  NaN  0.30   \n",
       "4  Ahmedabad  01-01-2015 05:00    NaN   NaN  0.12  14.90   7.85  NaN  0.12   \n",
       "\n",
       "      SO2      O3  Benzene  Toluene  Xylene  AQI AQI_Bucket  \n",
       "0  122.07     NaN      0.0      0.0     0.0  NaN        NaN  \n",
       "1   85.90     NaN      0.0      0.0     0.0  NaN        NaN  \n",
       "2   52.83     NaN      0.0      0.0     0.0  NaN        NaN  \n",
       "3   39.53  153.58      0.0      0.0     0.0  NaN        NaN  \n",
       "4   32.63     NaN      0.0      0.0     0.0  NaN        NaN  "
      ]
     },
     "execution_count": 176,
     "metadata": {},
     "output_type": "execute_result"
    }
   ],
   "source": [
    "## city_hour\n",
    "print(\"City Hour Data\", city_hour.shape)\n",
    "print(city_hour.columns.tolist())\n",
    "city_hour.head()"
   ]
  },
  {
   "cell_type": "code",
   "execution_count": 177,
   "id": "71b466c5",
   "metadata": {},
   "outputs": [
    {
     "name": "stdout",
     "output_type": "stream",
     "text": [
      "Station Day Data (108035, 16)\n",
      "['StationId', 'Date', 'PM2.5', 'PM10', 'NO', 'NO2', 'NOx', 'NH3', 'CO', 'SO2', 'O3', 'Benzene', 'Toluene', 'Xylene', 'AQI', 'AQI_Bucket']\n"
     ]
    },
    {
     "data": {
      "text/html": [
       "<div>\n",
       "<style scoped>\n",
       "    .dataframe tbody tr th:only-of-type {\n",
       "        vertical-align: middle;\n",
       "    }\n",
       "\n",
       "    .dataframe tbody tr th {\n",
       "        vertical-align: top;\n",
       "    }\n",
       "\n",
       "    .dataframe thead th {\n",
       "        text-align: right;\n",
       "    }\n",
       "</style>\n",
       "<table border=\"1\" class=\"dataframe\">\n",
       "  <thead>\n",
       "    <tr style=\"text-align: right;\">\n",
       "      <th></th>\n",
       "      <th>StationId</th>\n",
       "      <th>Date</th>\n",
       "      <th>PM2.5</th>\n",
       "      <th>PM10</th>\n",
       "      <th>NO</th>\n",
       "      <th>NO2</th>\n",
       "      <th>NOx</th>\n",
       "      <th>NH3</th>\n",
       "      <th>CO</th>\n",
       "      <th>SO2</th>\n",
       "      <th>O3</th>\n",
       "      <th>Benzene</th>\n",
       "      <th>Toluene</th>\n",
       "      <th>Xylene</th>\n",
       "      <th>AQI</th>\n",
       "      <th>AQI_Bucket</th>\n",
       "    </tr>\n",
       "  </thead>\n",
       "  <tbody>\n",
       "    <tr>\n",
       "      <th>0</th>\n",
       "      <td>AP001</td>\n",
       "      <td>24-11-2017</td>\n",
       "      <td>71.36</td>\n",
       "      <td>115.75</td>\n",
       "      <td>1.75</td>\n",
       "      <td>20.65</td>\n",
       "      <td>12.40</td>\n",
       "      <td>12.19</td>\n",
       "      <td>0.10</td>\n",
       "      <td>10.76</td>\n",
       "      <td>109.26</td>\n",
       "      <td>0.17</td>\n",
       "      <td>5.92</td>\n",
       "      <td>0.10</td>\n",
       "      <td>NaN</td>\n",
       "      <td>NaN</td>\n",
       "    </tr>\n",
       "    <tr>\n",
       "      <th>1</th>\n",
       "      <td>AP001</td>\n",
       "      <td>25-11-2017</td>\n",
       "      <td>81.40</td>\n",
       "      <td>124.50</td>\n",
       "      <td>1.44</td>\n",
       "      <td>20.50</td>\n",
       "      <td>12.08</td>\n",
       "      <td>10.72</td>\n",
       "      <td>0.12</td>\n",
       "      <td>15.24</td>\n",
       "      <td>127.09</td>\n",
       "      <td>0.20</td>\n",
       "      <td>6.50</td>\n",
       "      <td>0.06</td>\n",
       "      <td>184.0</td>\n",
       "      <td>Moderate</td>\n",
       "    </tr>\n",
       "    <tr>\n",
       "      <th>2</th>\n",
       "      <td>AP001</td>\n",
       "      <td>26-11-2017</td>\n",
       "      <td>78.32</td>\n",
       "      <td>129.06</td>\n",
       "      <td>1.26</td>\n",
       "      <td>26.00</td>\n",
       "      <td>14.85</td>\n",
       "      <td>10.28</td>\n",
       "      <td>0.14</td>\n",
       "      <td>26.96</td>\n",
       "      <td>117.44</td>\n",
       "      <td>0.22</td>\n",
       "      <td>7.95</td>\n",
       "      <td>0.08</td>\n",
       "      <td>197.0</td>\n",
       "      <td>Moderate</td>\n",
       "    </tr>\n",
       "    <tr>\n",
       "      <th>3</th>\n",
       "      <td>AP001</td>\n",
       "      <td>27-11-2017</td>\n",
       "      <td>88.76</td>\n",
       "      <td>135.32</td>\n",
       "      <td>6.60</td>\n",
       "      <td>30.85</td>\n",
       "      <td>21.77</td>\n",
       "      <td>12.91</td>\n",
       "      <td>0.11</td>\n",
       "      <td>33.59</td>\n",
       "      <td>111.81</td>\n",
       "      <td>0.29</td>\n",
       "      <td>7.63</td>\n",
       "      <td>0.12</td>\n",
       "      <td>198.0</td>\n",
       "      <td>Moderate</td>\n",
       "    </tr>\n",
       "    <tr>\n",
       "      <th>4</th>\n",
       "      <td>AP001</td>\n",
       "      <td>28-11-2017</td>\n",
       "      <td>64.18</td>\n",
       "      <td>104.09</td>\n",
       "      <td>2.56</td>\n",
       "      <td>28.07</td>\n",
       "      <td>17.01</td>\n",
       "      <td>11.42</td>\n",
       "      <td>0.09</td>\n",
       "      <td>19.00</td>\n",
       "      <td>138.18</td>\n",
       "      <td>0.17</td>\n",
       "      <td>5.02</td>\n",
       "      <td>0.07</td>\n",
       "      <td>188.0</td>\n",
       "      <td>Moderate</td>\n",
       "    </tr>\n",
       "  </tbody>\n",
       "</table>\n",
       "</div>"
      ],
      "text/plain": [
       "  StationId        Date  PM2.5    PM10    NO    NO2    NOx    NH3    CO  \\\n",
       "0     AP001  24-11-2017  71.36  115.75  1.75  20.65  12.40  12.19  0.10   \n",
       "1     AP001  25-11-2017  81.40  124.50  1.44  20.50  12.08  10.72  0.12   \n",
       "2     AP001  26-11-2017  78.32  129.06  1.26  26.00  14.85  10.28  0.14   \n",
       "3     AP001  27-11-2017  88.76  135.32  6.60  30.85  21.77  12.91  0.11   \n",
       "4     AP001  28-11-2017  64.18  104.09  2.56  28.07  17.01  11.42  0.09   \n",
       "\n",
       "     SO2      O3  Benzene  Toluene  Xylene    AQI AQI_Bucket  \n",
       "0  10.76  109.26     0.17     5.92    0.10    NaN        NaN  \n",
       "1  15.24  127.09     0.20     6.50    0.06  184.0   Moderate  \n",
       "2  26.96  117.44     0.22     7.95    0.08  197.0   Moderate  \n",
       "3  33.59  111.81     0.29     7.63    0.12  198.0   Moderate  \n",
       "4  19.00  138.18     0.17     5.02    0.07  188.0   Moderate  "
      ]
     },
     "execution_count": 177,
     "metadata": {},
     "output_type": "execute_result"
    }
   ],
   "source": [
    "## station_day\n",
    "print(\"Station Day Data\", station_day.shape)\n",
    "print(station_day.columns.tolist())\n",
    "station_day.head()"
   ]
  },
  {
   "cell_type": "code",
   "execution_count": 178,
   "id": "4c20b006",
   "metadata": {},
   "outputs": [
    {
     "name": "stdout",
     "output_type": "stream",
     "text": [
      "Station Hour Data (1048575, 16)\n",
      "['StationId', 'Datetime', 'PM2.5', 'PM10', 'NO', 'NO2', 'NOx', 'NH3', 'CO', 'SO2', 'O3', 'Benzene', 'Toluene', 'Xylene', 'AQI', 'AQI_Bucket']\n"
     ]
    },
    {
     "data": {
      "text/html": [
       "<div>\n",
       "<style scoped>\n",
       "    .dataframe tbody tr th:only-of-type {\n",
       "        vertical-align: middle;\n",
       "    }\n",
       "\n",
       "    .dataframe tbody tr th {\n",
       "        vertical-align: top;\n",
       "    }\n",
       "\n",
       "    .dataframe thead th {\n",
       "        text-align: right;\n",
       "    }\n",
       "</style>\n",
       "<table border=\"1\" class=\"dataframe\">\n",
       "  <thead>\n",
       "    <tr style=\"text-align: right;\">\n",
       "      <th></th>\n",
       "      <th>StationId</th>\n",
       "      <th>Datetime</th>\n",
       "      <th>PM2.5</th>\n",
       "      <th>PM10</th>\n",
       "      <th>NO</th>\n",
       "      <th>NO2</th>\n",
       "      <th>NOx</th>\n",
       "      <th>NH3</th>\n",
       "      <th>CO</th>\n",
       "      <th>SO2</th>\n",
       "      <th>O3</th>\n",
       "      <th>Benzene</th>\n",
       "      <th>Toluene</th>\n",
       "      <th>Xylene</th>\n",
       "      <th>AQI</th>\n",
       "      <th>AQI_Bucket</th>\n",
       "    </tr>\n",
       "  </thead>\n",
       "  <tbody>\n",
       "    <tr>\n",
       "      <th>0</th>\n",
       "      <td>AP001</td>\n",
       "      <td>24-11-2017 17:00</td>\n",
       "      <td>60.50</td>\n",
       "      <td>98.00</td>\n",
       "      <td>2.35</td>\n",
       "      <td>30.80</td>\n",
       "      <td>18.25</td>\n",
       "      <td>8.50</td>\n",
       "      <td>0.1</td>\n",
       "      <td>11.85</td>\n",
       "      <td>126.40</td>\n",
       "      <td>0.1</td>\n",
       "      <td>6.10</td>\n",
       "      <td>0.10</td>\n",
       "      <td>NaN</td>\n",
       "      <td>NaN</td>\n",
       "    </tr>\n",
       "    <tr>\n",
       "      <th>1</th>\n",
       "      <td>AP001</td>\n",
       "      <td>24-11-2017 18:00</td>\n",
       "      <td>65.50</td>\n",
       "      <td>111.25</td>\n",
       "      <td>2.70</td>\n",
       "      <td>24.20</td>\n",
       "      <td>15.07</td>\n",
       "      <td>9.77</td>\n",
       "      <td>0.1</td>\n",
       "      <td>13.17</td>\n",
       "      <td>117.12</td>\n",
       "      <td>0.1</td>\n",
       "      <td>6.25</td>\n",
       "      <td>0.15</td>\n",
       "      <td>NaN</td>\n",
       "      <td>NaN</td>\n",
       "    </tr>\n",
       "    <tr>\n",
       "      <th>2</th>\n",
       "      <td>AP001</td>\n",
       "      <td>24-11-2017 19:00</td>\n",
       "      <td>80.00</td>\n",
       "      <td>132.00</td>\n",
       "      <td>2.10</td>\n",
       "      <td>25.18</td>\n",
       "      <td>15.15</td>\n",
       "      <td>12.02</td>\n",
       "      <td>0.1</td>\n",
       "      <td>12.08</td>\n",
       "      <td>98.98</td>\n",
       "      <td>0.2</td>\n",
       "      <td>5.98</td>\n",
       "      <td>0.18</td>\n",
       "      <td>NaN</td>\n",
       "      <td>NaN</td>\n",
       "    </tr>\n",
       "    <tr>\n",
       "      <th>3</th>\n",
       "      <td>AP001</td>\n",
       "      <td>24-11-2017 20:00</td>\n",
       "      <td>81.50</td>\n",
       "      <td>133.25</td>\n",
       "      <td>1.95</td>\n",
       "      <td>16.25</td>\n",
       "      <td>10.23</td>\n",
       "      <td>11.58</td>\n",
       "      <td>0.1</td>\n",
       "      <td>10.47</td>\n",
       "      <td>112.20</td>\n",
       "      <td>0.2</td>\n",
       "      <td>6.72</td>\n",
       "      <td>0.10</td>\n",
       "      <td>NaN</td>\n",
       "      <td>NaN</td>\n",
       "    </tr>\n",
       "    <tr>\n",
       "      <th>4</th>\n",
       "      <td>AP001</td>\n",
       "      <td>24-11-2017 21:00</td>\n",
       "      <td>75.25</td>\n",
       "      <td>116.00</td>\n",
       "      <td>1.43</td>\n",
       "      <td>17.48</td>\n",
       "      <td>10.43</td>\n",
       "      <td>12.03</td>\n",
       "      <td>0.1</td>\n",
       "      <td>9.12</td>\n",
       "      <td>106.35</td>\n",
       "      <td>0.2</td>\n",
       "      <td>5.75</td>\n",
       "      <td>0.08</td>\n",
       "      <td>NaN</td>\n",
       "      <td>NaN</td>\n",
       "    </tr>\n",
       "  </tbody>\n",
       "</table>\n",
       "</div>"
      ],
      "text/plain": [
       "  StationId          Datetime  PM2.5    PM10    NO    NO2    NOx    NH3   CO  \\\n",
       "0     AP001  24-11-2017 17:00  60.50   98.00  2.35  30.80  18.25   8.50  0.1   \n",
       "1     AP001  24-11-2017 18:00  65.50  111.25  2.70  24.20  15.07   9.77  0.1   \n",
       "2     AP001  24-11-2017 19:00  80.00  132.00  2.10  25.18  15.15  12.02  0.1   \n",
       "3     AP001  24-11-2017 20:00  81.50  133.25  1.95  16.25  10.23  11.58  0.1   \n",
       "4     AP001  24-11-2017 21:00  75.25  116.00  1.43  17.48  10.43  12.03  0.1   \n",
       "\n",
       "     SO2      O3  Benzene  Toluene  Xylene  AQI AQI_Bucket  \n",
       "0  11.85  126.40      0.1     6.10    0.10  NaN        NaN  \n",
       "1  13.17  117.12      0.1     6.25    0.15  NaN        NaN  \n",
       "2  12.08   98.98      0.2     5.98    0.18  NaN        NaN  \n",
       "3  10.47  112.20      0.2     6.72    0.10  NaN        NaN  \n",
       "4   9.12  106.35      0.2     5.75    0.08  NaN        NaN  "
      ]
     },
     "execution_count": 178,
     "metadata": {},
     "output_type": "execute_result"
    }
   ],
   "source": [
    "## station_hour\n",
    "print(\"Station Hour Data\", station_hour.shape)\n",
    "print(station_hour.columns.tolist())\n",
    "station_hour.head()"
   ]
  },
  {
   "cell_type": "code",
   "execution_count": 179,
   "id": "6d8c1825",
   "metadata": {},
   "outputs": [
    {
     "name": "stdout",
     "output_type": "stream",
     "text": [
      "Stations Data (230, 5)\n",
      "['StationId', 'StationName', 'City', 'State', 'Status']\n"
     ]
    },
    {
     "data": {
      "text/html": [
       "<div>\n",
       "<style scoped>\n",
       "    .dataframe tbody tr th:only-of-type {\n",
       "        vertical-align: middle;\n",
       "    }\n",
       "\n",
       "    .dataframe tbody tr th {\n",
       "        vertical-align: top;\n",
       "    }\n",
       "\n",
       "    .dataframe thead th {\n",
       "        text-align: right;\n",
       "    }\n",
       "</style>\n",
       "<table border=\"1\" class=\"dataframe\">\n",
       "  <thead>\n",
       "    <tr style=\"text-align: right;\">\n",
       "      <th></th>\n",
       "      <th>StationId</th>\n",
       "      <th>StationName</th>\n",
       "      <th>City</th>\n",
       "      <th>State</th>\n",
       "      <th>Status</th>\n",
       "    </tr>\n",
       "  </thead>\n",
       "  <tbody>\n",
       "    <tr>\n",
       "      <th>0</th>\n",
       "      <td>AP001</td>\n",
       "      <td>Secretariat, Amaravati - APPCB</td>\n",
       "      <td>Amaravati</td>\n",
       "      <td>Andhra Pradesh</td>\n",
       "      <td>Active</td>\n",
       "    </tr>\n",
       "    <tr>\n",
       "      <th>1</th>\n",
       "      <td>AP002</td>\n",
       "      <td>Anand Kala Kshetram, Rajamahendravaram - APPCB</td>\n",
       "      <td>Rajamahendravaram</td>\n",
       "      <td>Andhra Pradesh</td>\n",
       "      <td>NaN</td>\n",
       "    </tr>\n",
       "    <tr>\n",
       "      <th>2</th>\n",
       "      <td>AP003</td>\n",
       "      <td>Tirumala, Tirupati - APPCB</td>\n",
       "      <td>Tirupati</td>\n",
       "      <td>Andhra Pradesh</td>\n",
       "      <td>NaN</td>\n",
       "    </tr>\n",
       "    <tr>\n",
       "      <th>3</th>\n",
       "      <td>AP004</td>\n",
       "      <td>PWD Grounds, Vijayawada - APPCB</td>\n",
       "      <td>Vijayawada</td>\n",
       "      <td>Andhra Pradesh</td>\n",
       "      <td>NaN</td>\n",
       "    </tr>\n",
       "    <tr>\n",
       "      <th>4</th>\n",
       "      <td>AP005</td>\n",
       "      <td>GVM Corporation, Visakhapatnam - APPCB</td>\n",
       "      <td>Visakhapatnam</td>\n",
       "      <td>Andhra Pradesh</td>\n",
       "      <td>Active</td>\n",
       "    </tr>\n",
       "  </tbody>\n",
       "</table>\n",
       "</div>"
      ],
      "text/plain": [
       "  StationId                                     StationName  \\\n",
       "0     AP001                  Secretariat, Amaravati - APPCB   \n",
       "1     AP002  Anand Kala Kshetram, Rajamahendravaram - APPCB   \n",
       "2     AP003                      Tirumala, Tirupati - APPCB   \n",
       "3     AP004                 PWD Grounds, Vijayawada - APPCB   \n",
       "4     AP005          GVM Corporation, Visakhapatnam - APPCB   \n",
       "\n",
       "                City           State  Status  \n",
       "0          Amaravati  Andhra Pradesh  Active  \n",
       "1  Rajamahendravaram  Andhra Pradesh     NaN  \n",
       "2           Tirupati  Andhra Pradesh     NaN  \n",
       "3         Vijayawada  Andhra Pradesh     NaN  \n",
       "4      Visakhapatnam  Andhra Pradesh  Active  "
      ]
     },
     "execution_count": 179,
     "metadata": {},
     "output_type": "execute_result"
    }
   ],
   "source": [
    "## stations\n",
    "print(\"Stations Data\", stations.shape)\n",
    "print(stations.columns.tolist())\n",
    "stations.head()"
   ]
  },
  {
   "cell_type": "code",
   "execution_count": 180,
   "id": "9d970a8f",
   "metadata": {},
   "outputs": [
    {
     "data": {
      "text/html": [
       "<div>\n",
       "<style scoped>\n",
       "    .dataframe tbody tr th:only-of-type {\n",
       "        vertical-align: middle;\n",
       "    }\n",
       "\n",
       "    .dataframe tbody tr th {\n",
       "        vertical-align: top;\n",
       "    }\n",
       "\n",
       "    .dataframe thead th {\n",
       "        text-align: right;\n",
       "    }\n",
       "</style>\n",
       "<table border=\"1\" class=\"dataframe\">\n",
       "  <thead>\n",
       "    <tr style=\"text-align: right;\">\n",
       "      <th></th>\n",
       "      <th>City</th>\n",
       "      <th>Date</th>\n",
       "      <th>PM2.5</th>\n",
       "      <th>PM10</th>\n",
       "      <th>NO</th>\n",
       "      <th>NO2</th>\n",
       "      <th>NOx</th>\n",
       "      <th>NH3</th>\n",
       "      <th>CO</th>\n",
       "      <th>SO2</th>\n",
       "      <th>O3</th>\n",
       "      <th>Benzene</th>\n",
       "      <th>Toluene</th>\n",
       "      <th>Xylene</th>\n",
       "      <th>AQI</th>\n",
       "      <th>AQI_Bucket</th>\n",
       "      <th>Year</th>\n",
       "      <th>Month</th>\n",
       "      <th>day</th>\n",
       "    </tr>\n",
       "  </thead>\n",
       "  <tbody>\n",
       "    <tr>\n",
       "      <th>0</th>\n",
       "      <td>Ahmedabad</td>\n",
       "      <td>2015-01-01</td>\n",
       "      <td>NaN</td>\n",
       "      <td>NaN</td>\n",
       "      <td>0.92</td>\n",
       "      <td>18.22</td>\n",
       "      <td>17.15</td>\n",
       "      <td>NaN</td>\n",
       "      <td>0.92</td>\n",
       "      <td>27.64</td>\n",
       "      <td>133.36</td>\n",
       "      <td>0.00</td>\n",
       "      <td>0.02</td>\n",
       "      <td>0.00</td>\n",
       "      <td>NaN</td>\n",
       "      <td>NaN</td>\n",
       "      <td>2015</td>\n",
       "      <td>1</td>\n",
       "      <td>1</td>\n",
       "    </tr>\n",
       "    <tr>\n",
       "      <th>1</th>\n",
       "      <td>Ahmedabad</td>\n",
       "      <td>2015-01-02</td>\n",
       "      <td>NaN</td>\n",
       "      <td>NaN</td>\n",
       "      <td>0.97</td>\n",
       "      <td>15.69</td>\n",
       "      <td>16.46</td>\n",
       "      <td>NaN</td>\n",
       "      <td>0.97</td>\n",
       "      <td>24.55</td>\n",
       "      <td>34.06</td>\n",
       "      <td>3.68</td>\n",
       "      <td>5.50</td>\n",
       "      <td>3.77</td>\n",
       "      <td>NaN</td>\n",
       "      <td>NaN</td>\n",
       "      <td>2015</td>\n",
       "      <td>1</td>\n",
       "      <td>2</td>\n",
       "    </tr>\n",
       "    <tr>\n",
       "      <th>2</th>\n",
       "      <td>Ahmedabad</td>\n",
       "      <td>2015-01-03</td>\n",
       "      <td>NaN</td>\n",
       "      <td>NaN</td>\n",
       "      <td>17.40</td>\n",
       "      <td>19.30</td>\n",
       "      <td>29.70</td>\n",
       "      <td>NaN</td>\n",
       "      <td>17.40</td>\n",
       "      <td>29.07</td>\n",
       "      <td>30.70</td>\n",
       "      <td>6.80</td>\n",
       "      <td>16.40</td>\n",
       "      <td>2.25</td>\n",
       "      <td>NaN</td>\n",
       "      <td>NaN</td>\n",
       "      <td>2015</td>\n",
       "      <td>1</td>\n",
       "      <td>3</td>\n",
       "    </tr>\n",
       "    <tr>\n",
       "      <th>3</th>\n",
       "      <td>Ahmedabad</td>\n",
       "      <td>2015-01-04</td>\n",
       "      <td>NaN</td>\n",
       "      <td>NaN</td>\n",
       "      <td>1.70</td>\n",
       "      <td>18.48</td>\n",
       "      <td>17.97</td>\n",
       "      <td>NaN</td>\n",
       "      <td>1.70</td>\n",
       "      <td>18.59</td>\n",
       "      <td>36.08</td>\n",
       "      <td>4.43</td>\n",
       "      <td>10.14</td>\n",
       "      <td>1.00</td>\n",
       "      <td>NaN</td>\n",
       "      <td>NaN</td>\n",
       "      <td>2015</td>\n",
       "      <td>1</td>\n",
       "      <td>4</td>\n",
       "    </tr>\n",
       "    <tr>\n",
       "      <th>4</th>\n",
       "      <td>Ahmedabad</td>\n",
       "      <td>2015-01-05</td>\n",
       "      <td>NaN</td>\n",
       "      <td>NaN</td>\n",
       "      <td>22.10</td>\n",
       "      <td>21.42</td>\n",
       "      <td>37.76</td>\n",
       "      <td>NaN</td>\n",
       "      <td>22.10</td>\n",
       "      <td>39.33</td>\n",
       "      <td>39.31</td>\n",
       "      <td>7.01</td>\n",
       "      <td>18.89</td>\n",
       "      <td>2.78</td>\n",
       "      <td>NaN</td>\n",
       "      <td>NaN</td>\n",
       "      <td>2015</td>\n",
       "      <td>1</td>\n",
       "      <td>5</td>\n",
       "    </tr>\n",
       "  </tbody>\n",
       "</table>\n",
       "</div>"
      ],
      "text/plain": [
       "        City       Date  PM2.5  PM10     NO    NO2    NOx  NH3     CO    SO2  \\\n",
       "0  Ahmedabad 2015-01-01    NaN   NaN   0.92  18.22  17.15  NaN   0.92  27.64   \n",
       "1  Ahmedabad 2015-01-02    NaN   NaN   0.97  15.69  16.46  NaN   0.97  24.55   \n",
       "2  Ahmedabad 2015-01-03    NaN   NaN  17.40  19.30  29.70  NaN  17.40  29.07   \n",
       "3  Ahmedabad 2015-01-04    NaN   NaN   1.70  18.48  17.97  NaN   1.70  18.59   \n",
       "4  Ahmedabad 2015-01-05    NaN   NaN  22.10  21.42  37.76  NaN  22.10  39.33   \n",
       "\n",
       "       O3  Benzene  Toluene  Xylene  AQI AQI_Bucket  Year  Month  day  \n",
       "0  133.36     0.00     0.02    0.00  NaN        NaN  2015      1    1  \n",
       "1   34.06     3.68     5.50    3.77  NaN        NaN  2015      1    2  \n",
       "2   30.70     6.80    16.40    2.25  NaN        NaN  2015      1    3  \n",
       "3   36.08     4.43    10.14    1.00  NaN        NaN  2015      1    4  \n",
       "4   39.31     7.01    18.89    2.78  NaN        NaN  2015      1    5  "
      ]
     },
     "execution_count": 180,
     "metadata": {},
     "output_type": "execute_result"
    }
   ],
   "source": [
    "## Convert into datetime\n",
    "city_day['Date'] = pd.to_datetime(city_day['Date'])\n",
    "city_day['Year'] = city_day['Date'].dt.year\n",
    "city_day['Month'] = city_day['Date'].dt.month\n",
    "city_day['day'] = city_day['Date'].dt.day\n",
    "city_day.head()"
   ]
  },
  {
   "cell_type": "code",
   "execution_count": 181,
   "id": "896264ba",
   "metadata": {
    "scrolled": true
   },
   "outputs": [
    {
     "data": {
      "text/html": [
       "<div>\n",
       "<style scoped>\n",
       "    .dataframe tbody tr th:only-of-type {\n",
       "        vertical-align: middle;\n",
       "    }\n",
       "\n",
       "    .dataframe tbody tr th {\n",
       "        vertical-align: top;\n",
       "    }\n",
       "\n",
       "    .dataframe thead th {\n",
       "        text-align: right;\n",
       "    }\n",
       "</style>\n",
       "<table border=\"1\" class=\"dataframe\">\n",
       "  <thead>\n",
       "    <tr style=\"text-align: right;\">\n",
       "      <th></th>\n",
       "      <th>PM2.5</th>\n",
       "      <th>PM10</th>\n",
       "      <th>NO</th>\n",
       "      <th>NO2</th>\n",
       "      <th>NOx</th>\n",
       "      <th>NH3</th>\n",
       "      <th>CO</th>\n",
       "      <th>SO2</th>\n",
       "      <th>O3</th>\n",
       "      <th>Benzene</th>\n",
       "      <th>Toluene</th>\n",
       "      <th>Xylene</th>\n",
       "      <th>AQI</th>\n",
       "      <th>Year</th>\n",
       "      <th>Month</th>\n",
       "      <th>day</th>\n",
       "    </tr>\n",
       "  </thead>\n",
       "  <tbody>\n",
       "    <tr>\n",
       "      <th>count</th>\n",
       "      <td>24933.000000</td>\n",
       "      <td>18391.000000</td>\n",
       "      <td>25949.000000</td>\n",
       "      <td>25946.000000</td>\n",
       "      <td>25346.000000</td>\n",
       "      <td>19203.000000</td>\n",
       "      <td>27472.000000</td>\n",
       "      <td>25677.000000</td>\n",
       "      <td>25509.000000</td>\n",
       "      <td>23908.000000</td>\n",
       "      <td>21490.000000</td>\n",
       "      <td>11422.000000</td>\n",
       "      <td>24850.000000</td>\n",
       "      <td>29531.000000</td>\n",
       "      <td>29531.000000</td>\n",
       "      <td>29531.000000</td>\n",
       "    </tr>\n",
       "    <tr>\n",
       "      <th>mean</th>\n",
       "      <td>67.450578</td>\n",
       "      <td>118.127103</td>\n",
       "      <td>17.574730</td>\n",
       "      <td>28.560659</td>\n",
       "      <td>32.309123</td>\n",
       "      <td>23.483476</td>\n",
       "      <td>2.248598</td>\n",
       "      <td>14.531977</td>\n",
       "      <td>34.491430</td>\n",
       "      <td>3.280840</td>\n",
       "      <td>8.700972</td>\n",
       "      <td>3.070128</td>\n",
       "      <td>166.463581</td>\n",
       "      <td>2017.887914</td>\n",
       "      <td>6.267143</td>\n",
       "      <td>15.762758</td>\n",
       "    </tr>\n",
       "    <tr>\n",
       "      <th>std</th>\n",
       "      <td>64.661449</td>\n",
       "      <td>90.605110</td>\n",
       "      <td>22.785846</td>\n",
       "      <td>24.474746</td>\n",
       "      <td>31.646011</td>\n",
       "      <td>25.684275</td>\n",
       "      <td>6.962884</td>\n",
       "      <td>18.133775</td>\n",
       "      <td>21.694928</td>\n",
       "      <td>15.811136</td>\n",
       "      <td>19.969164</td>\n",
       "      <td>6.323247</td>\n",
       "      <td>140.696585</td>\n",
       "      <td>1.533783</td>\n",
       "      <td>3.431974</td>\n",
       "      <td>8.804537</td>\n",
       "    </tr>\n",
       "    <tr>\n",
       "      <th>min</th>\n",
       "      <td>0.040000</td>\n",
       "      <td>0.010000</td>\n",
       "      <td>0.020000</td>\n",
       "      <td>0.010000</td>\n",
       "      <td>0.000000</td>\n",
       "      <td>0.010000</td>\n",
       "      <td>0.000000</td>\n",
       "      <td>0.010000</td>\n",
       "      <td>0.010000</td>\n",
       "      <td>0.000000</td>\n",
       "      <td>0.000000</td>\n",
       "      <td>0.000000</td>\n",
       "      <td>13.000000</td>\n",
       "      <td>2015.000000</td>\n",
       "      <td>1.000000</td>\n",
       "      <td>1.000000</td>\n",
       "    </tr>\n",
       "    <tr>\n",
       "      <th>25%</th>\n",
       "      <td>28.820000</td>\n",
       "      <td>56.255000</td>\n",
       "      <td>5.630000</td>\n",
       "      <td>11.750000</td>\n",
       "      <td>12.820000</td>\n",
       "      <td>8.580000</td>\n",
       "      <td>0.510000</td>\n",
       "      <td>5.670000</td>\n",
       "      <td>18.860000</td>\n",
       "      <td>0.120000</td>\n",
       "      <td>0.600000</td>\n",
       "      <td>0.140000</td>\n",
       "      <td>81.000000</td>\n",
       "      <td>2017.000000</td>\n",
       "      <td>3.000000</td>\n",
       "      <td>8.000000</td>\n",
       "    </tr>\n",
       "    <tr>\n",
       "      <th>50%</th>\n",
       "      <td>48.570000</td>\n",
       "      <td>95.680000</td>\n",
       "      <td>9.890000</td>\n",
       "      <td>21.690000</td>\n",
       "      <td>23.520000</td>\n",
       "      <td>15.850000</td>\n",
       "      <td>0.890000</td>\n",
       "      <td>9.160000</td>\n",
       "      <td>30.840000</td>\n",
       "      <td>1.070000</td>\n",
       "      <td>2.970000</td>\n",
       "      <td>0.980000</td>\n",
       "      <td>118.000000</td>\n",
       "      <td>2018.000000</td>\n",
       "      <td>6.000000</td>\n",
       "      <td>16.000000</td>\n",
       "    </tr>\n",
       "    <tr>\n",
       "      <th>75%</th>\n",
       "      <td>80.590000</td>\n",
       "      <td>149.745000</td>\n",
       "      <td>19.950000</td>\n",
       "      <td>37.620000</td>\n",
       "      <td>40.127500</td>\n",
       "      <td>30.020000</td>\n",
       "      <td>1.450000</td>\n",
       "      <td>15.220000</td>\n",
       "      <td>45.570000</td>\n",
       "      <td>3.080000</td>\n",
       "      <td>9.150000</td>\n",
       "      <td>3.350000</td>\n",
       "      <td>208.000000</td>\n",
       "      <td>2019.000000</td>\n",
       "      <td>9.000000</td>\n",
       "      <td>23.000000</td>\n",
       "    </tr>\n",
       "    <tr>\n",
       "      <th>max</th>\n",
       "      <td>949.990000</td>\n",
       "      <td>1000.000000</td>\n",
       "      <td>390.680000</td>\n",
       "      <td>362.210000</td>\n",
       "      <td>467.630000</td>\n",
       "      <td>352.890000</td>\n",
       "      <td>175.810000</td>\n",
       "      <td>193.860000</td>\n",
       "      <td>257.730000</td>\n",
       "      <td>455.030000</td>\n",
       "      <td>454.850000</td>\n",
       "      <td>170.370000</td>\n",
       "      <td>2049.000000</td>\n",
       "      <td>2020.000000</td>\n",
       "      <td>12.000000</td>\n",
       "      <td>31.000000</td>\n",
       "    </tr>\n",
       "  </tbody>\n",
       "</table>\n",
       "</div>"
      ],
      "text/plain": [
       "              PM2.5          PM10            NO           NO2           NOx  \\\n",
       "count  24933.000000  18391.000000  25949.000000  25946.000000  25346.000000   \n",
       "mean      67.450578    118.127103     17.574730     28.560659     32.309123   \n",
       "std       64.661449     90.605110     22.785846     24.474746     31.646011   \n",
       "min        0.040000      0.010000      0.020000      0.010000      0.000000   \n",
       "25%       28.820000     56.255000      5.630000     11.750000     12.820000   \n",
       "50%       48.570000     95.680000      9.890000     21.690000     23.520000   \n",
       "75%       80.590000    149.745000     19.950000     37.620000     40.127500   \n",
       "max      949.990000   1000.000000    390.680000    362.210000    467.630000   \n",
       "\n",
       "                NH3            CO           SO2            O3       Benzene  \\\n",
       "count  19203.000000  27472.000000  25677.000000  25509.000000  23908.000000   \n",
       "mean      23.483476      2.248598     14.531977     34.491430      3.280840   \n",
       "std       25.684275      6.962884     18.133775     21.694928     15.811136   \n",
       "min        0.010000      0.000000      0.010000      0.010000      0.000000   \n",
       "25%        8.580000      0.510000      5.670000     18.860000      0.120000   \n",
       "50%       15.850000      0.890000      9.160000     30.840000      1.070000   \n",
       "75%       30.020000      1.450000     15.220000     45.570000      3.080000   \n",
       "max      352.890000    175.810000    193.860000    257.730000    455.030000   \n",
       "\n",
       "            Toluene        Xylene           AQI          Year         Month  \\\n",
       "count  21490.000000  11422.000000  24850.000000  29531.000000  29531.000000   \n",
       "mean       8.700972      3.070128    166.463581   2017.887914      6.267143   \n",
       "std       19.969164      6.323247    140.696585      1.533783      3.431974   \n",
       "min        0.000000      0.000000     13.000000   2015.000000      1.000000   \n",
       "25%        0.600000      0.140000     81.000000   2017.000000      3.000000   \n",
       "50%        2.970000      0.980000    118.000000   2018.000000      6.000000   \n",
       "75%        9.150000      3.350000    208.000000   2019.000000      9.000000   \n",
       "max      454.850000    170.370000   2049.000000   2020.000000     12.000000   \n",
       "\n",
       "                day  \n",
       "count  29531.000000  \n",
       "mean      15.762758  \n",
       "std        8.804537  \n",
       "min        1.000000  \n",
       "25%        8.000000  \n",
       "50%       16.000000  \n",
       "75%       23.000000  \n",
       "max       31.000000  "
      ]
     },
     "execution_count": 181,
     "metadata": {},
     "output_type": "execute_result"
    }
   ],
   "source": [
    "city_day.describe()"
   ]
  },
  {
   "cell_type": "markdown",
   "id": "bcf9d136",
   "metadata": {},
   "source": [
    "# Cities\n",
    "## How many cities do we have here?"
   ]
  },
  {
   "cell_type": "code",
   "execution_count": 182,
   "id": "57152f9c",
   "metadata": {},
   "outputs": [
    {
     "name": "stdout",
     "output_type": "stream",
     "text": [
      "Total cities 26\n"
     ]
    },
    {
     "data": {
      "text/plain": [
       "['Ahmedabad',\n",
       " 'Aizawl',\n",
       " 'Amaravati',\n",
       " 'Amritsar',\n",
       " 'Bengaluru',\n",
       " 'Bhopal',\n",
       " 'Brajrajnagar',\n",
       " 'Chandigarh',\n",
       " 'Chennai',\n",
       " 'Coimbatore',\n",
       " 'Delhi',\n",
       " 'Ernakulam',\n",
       " 'Gurugram',\n",
       " 'Guwahati',\n",
       " 'Hyderabad',\n",
       " 'Jaipur',\n",
       " 'Jorapokhar',\n",
       " 'Kochi',\n",
       " 'Kolkata',\n",
       " 'Lucknow',\n",
       " 'Mumbai',\n",
       " 'Patna',\n",
       " 'Shillong',\n",
       " 'Talcher',\n",
       " 'Thiruvananthapuram',\n",
       " 'Visakhapatnam']"
      ]
     },
     "execution_count": 182,
     "metadata": {},
     "output_type": "execute_result"
    }
   ],
   "source": [
    "print(\"Total cities\", len(city_day['City'].unique()))\n",
    "city_day['City'].unique().tolist()"
   ]
  },
  {
   "cell_type": "markdown",
   "id": "c7d13093",
   "metadata": {},
   "source": [
    "### Lets have a look at the pollutants and how they are distributed\n",
    "\n",
    "Observations:\n",
    "\n",
    "- PM2.5, O3 are usually high throughout the year\n",
    "- CO has been found consistently low over the years"
   ]
  },
  {
   "cell_type": "code",
   "execution_count": 183,
   "id": "3646a6f5",
   "metadata": {},
   "outputs": [
    {
     "data": {
      "image/png": "[encoded data removed]",
      "text/plain": [
       "<Figure size 1152x1440 with 9 Axes>"
      ]
     },
     "metadata": {
      "needs_background": "light"
     },
     "output_type": "display_data"
    }
   ],
   "source": [
    "pollutants = ['PM2.5','PM10', 'NO', 'NOx','NO2','CO','NH3','O3','SO2']\n",
    "df = city_day.set_index('Date')\n",
    "axes = df[pollutants].plot(marker='.',alpha = 0.5, linestyle = 'None', figsize = (16,20), subplots = True)\n",
    "for ax in axes:\n",
    "    ax.set_xlabel('Years')\n",
    "    ax.set_ylabel('ug/m3')"
   ]
  },
  {
   "cell_type": "markdown",
   "id": "fe08ce5b",
   "metadata": {},
   "source": [
    "## How are the AQI Buckets distributed?"
   ]
  },
  {
   "cell_type": "code",
   "execution_count": 184,
   "id": "64c9d6ee",
   "metadata": {},
   "outputs": [
    {
     "data": {
      "image/png": "[encoded data removed]",
      "text/plain": [
       "<Figure size 432x288 with 1 Axes>"
      ]
     },
     "metadata": {
      "needs_background": "light"
     },
     "output_type": "display_data"
    }
   ],
   "source": [
    "plt.title('Distribution of AQI Buckets 2015-2020')\n",
    "sns.countplot(x='AQI_Bucket', data=city_day, hue='Year');"
   ]
  },
  {
   "cell_type": "markdown",
   "id": "b7f1392a",
   "metadata": {},
   "source": [
    "- Overall we see we have a large number of Moderate and Satisfactory bucket counts which is a good thing and low number of Poor and Severe buckets over 2015-2020.\n",
    "- If we observe carefully, 2019 has highest Moderate and Satisfactory buckets which can be explained by lower pollution levels by the lockdown.\n",
    "- And as compared to the previous years 2018 & 2019, for all the buckets we see a steep decline in 2020, and in case of \"Good\" bucket - higher number than previous years which can be seen as a positive sign."
   ]
  },
  {
   "cell_type": "markdown",
   "id": "a11e3476",
   "metadata": {},
   "source": [
    "### Lets study the AQI levels themselves"
   ]
  },
  {
   "cell_type": "code",
   "execution_count": 185,
   "id": "f64b352e",
   "metadata": {},
   "outputs": [
    {
     "name": "stdout",
     "output_type": "stream",
     "text": [
      "Minimum and maximum range of AQI: 13.0 - 2049.0\n"
     ]
    },
    {
     "data": {
      "image/png": "[encoded data removed]",
      "text/plain": [
       "<Figure size 432x288 with 1 Axes>"
      ]
     },
     "metadata": {
      "needs_background": "light"
     },
     "output_type": "display_data"
    }
   ],
   "source": [
    "## AQI\n",
    "print(f\"Minimum and maximum range of AQI: {city_day.AQI.min()} - {city_day.AQI.max()}\")\n",
    "plt.title('AQI levels over 2015 to 2020')\n",
    "sns.lineplot(x='Year',y='AQI', data=city_day);"
   ]
  },
  {
   "cell_type": "markdown",
   "id": "91c72b1b",
   "metadata": {},
   "source": [
    "We observe a general decline in the AQI levels over the years which shows increase in Air Quality"
   ]
  },
  {
   "cell_type": "markdown",
   "id": "f976993c",
   "metadata": {},
   "source": [
    "### Lets observe the AQI levels of some of the metro cities over the years."
   ]
  },
  {
   "cell_type": "code",
   "execution_count": 186,
   "id": "7e54e4bb",
   "metadata": {},
   "outputs": [
    {
     "data": {
      "image/png": "[encoded data removed]",
      "text/plain": [
       "<Figure size 432x288 with 1 Axes>"
      ]
     },
     "metadata": {
      "needs_background": "light"
     },
     "output_type": "display_data"
    }
   ],
   "source": [
    "data = city_day[(city_day['City'] == 'Mumbai') | (city_day['City'] == 'Delhi') | (city_day['City'] == 'Bengaluru') | (city_day['City'] == 'Ahmedabad') | (city_day['City'] == 'Chennai')]\n",
    "plt.title('AQI Levels of some metro cities 2015-2020')\n",
    "sns.lineplot(x='Year',y='AQI', data=data, hue='City');"
   ]
  },
  {
   "cell_type": "markdown",
   "id": "5cf6d3b7",
   "metadata": {},
   "source": [
    "### In 2020 how did the AQI levels vary?"
   ]
  },
  {
   "cell_type": "code",
   "execution_count": 187,
   "id": "b5bef956",
   "metadata": {},
   "outputs": [
    {
     "data": {
      "image/png": "[encoded data removed]",
      "text/plain": [
       "<Figure size 432x288 with 1 Axes>"
      ]
     },
     "metadata": {
      "needs_background": "light"
     },
     "output_type": "display_data"
    }
   ],
   "source": [
    "data = city_day[city_day['Year'] == 2020]\n",
    "plt.title('AQI Levels in the year 2020')\n",
    "sns.lineplot(x='Month', y='AQI', data=data);"
   ]
  },
  {
   "cell_type": "markdown",
   "id": "cd4e19a2",
   "metadata": {},
   "source": [
    "Even before the nationwide lockdown declared by the PM (24th March 2020), individual states were already in lockdown before that and hence we see the steep decline in the AQI from Feb."
   ]
  },
  {
   "cell_type": "markdown",
   "id": "7ed75fec",
   "metadata": {},
   "source": [
    "## Lets compare for Delhi & Mumbai in 2020 both hotspots for pollutants."
   ]
  },
  {
   "cell_type": "code",
   "execution_count": 188,
   "id": "796a3401",
   "metadata": {},
   "outputs": [
    {
     "name": "stderr",
     "output_type": "stream",
     "text": [
      "<ipython-input-188-a6852214fbcc>:1: UserWarning: Boolean Series key will be reindexed to match DataFrame index.\n",
      "  data = city_day[city_day['Year'] == 2020][(city_day['City'] == 'Mumbai') | (city_day['City'] == 'Delhi')]\n"
     ]
    },
    {
     "data": {
      "image/png": "[encoded data removed]",
      "text/plain": [
       "<Figure size 432x288 with 1 Axes>"
      ]
     },
     "metadata": {
      "needs_background": "light"
     },
     "output_type": "display_data"
    }
   ],
   "source": [
    "data = city_day[city_day['Year'] == 2020][(city_day['City'] == 'Mumbai') | (city_day['City'] == 'Delhi')]\n",
    "plt.title('AQI Levels of Delhi & Mumbai in 2020')\n",
    "sns.lineplot(x='Month',y='AQI', data=data, hue='City');"
   ]
  },
  {
   "cell_type": "markdown",
   "id": "0bef62d6",
   "metadata": {},
   "source": [
    "# Data Cleaning"
   ]
  },
  {
   "cell_type": "markdown",
   "id": "3d440e0a",
   "metadata": {},
   "source": [
    "## Data sets"
   ]
  },
  {
   "cell_type": "code",
   "execution_count": 189,
   "id": "ccfe69eb",
   "metadata": {},
   "outputs": [
    {
     "name": "stderr",
     "output_type": "stream",
     "text": [
      "C:\\ProgramData\\Anaconda3\\lib\\site-packages\\IPython\\core\\interactiveshell.py:3165: DtypeWarning: Columns (15) have mixed types.Specify dtype option on import or set low_memory=False.\n",
      "  has_raised = await self.run_ast_nodes(code_ast.body, cell_name,\n"
     ]
    }
   ],
   "source": [
    "city_day = pd.read_csv('city_day.csv')\n",
    "city_hour = pd.read_csv('city_hour.csv')\n",
    "station_day = pd.read_csv('station_day.csv')\n",
    "station_hour = pd.read_csv('station_hour.csv')\n",
    "stations = pd.read_csv('stations.csv')"
   ]
  },
  {
   "cell_type": "markdown",
   "id": "312e6724",
   "metadata": {},
   "source": [
    "## Lets clean the dataset one by one"
   ]
  },
  {
   "cell_type": "markdown",
   "id": "15d2a353",
   "metadata": {},
   "source": [
    "### 1. City_day"
   ]
  },
  {
   "cell_type": "code",
   "execution_count": 190,
   "id": "a8740379",
   "metadata": {},
   "outputs": [
    {
     "data": {
      "text/html": [
       "<div>\n",
       "<style scoped>\n",
       "    .dataframe tbody tr th:only-of-type {\n",
       "        vertical-align: middle;\n",
       "    }\n",
       "\n",
       "    .dataframe tbody tr th {\n",
       "        vertical-align: top;\n",
       "    }\n",
       "\n",
       "    .dataframe thead th {\n",
       "        text-align: right;\n",
       "    }\n",
       "</style>\n",
       "<table border=\"1\" class=\"dataframe\">\n",
       "  <thead>\n",
       "    <tr style=\"text-align: right;\">\n",
       "      <th></th>\n",
       "      <th>City</th>\n",
       "      <th>Date</th>\n",
       "      <th>PM2.5</th>\n",
       "      <th>PM10</th>\n",
       "      <th>NO</th>\n",
       "      <th>NO2</th>\n",
       "      <th>NOx</th>\n",
       "      <th>NH3</th>\n",
       "      <th>CO</th>\n",
       "      <th>SO2</th>\n",
       "      <th>O3</th>\n",
       "      <th>Benzene</th>\n",
       "      <th>Toluene</th>\n",
       "      <th>Xylene</th>\n",
       "      <th>AQI</th>\n",
       "      <th>AQI_Bucket</th>\n",
       "    </tr>\n",
       "  </thead>\n",
       "  <tbody>\n",
       "    <tr>\n",
       "      <th>0</th>\n",
       "      <td>Ahmedabad</td>\n",
       "      <td>2015-01-01</td>\n",
       "      <td>NaN</td>\n",
       "      <td>NaN</td>\n",
       "      <td>0.92</td>\n",
       "      <td>18.22</td>\n",
       "      <td>17.15</td>\n",
       "      <td>NaN</td>\n",
       "      <td>0.92</td>\n",
       "      <td>27.64</td>\n",
       "      <td>133.36</td>\n",
       "      <td>0.00</td>\n",
       "      <td>0.02</td>\n",
       "      <td>0.00</td>\n",
       "      <td>NaN</td>\n",
       "      <td>NaN</td>\n",
       "    </tr>\n",
       "    <tr>\n",
       "      <th>1</th>\n",
       "      <td>Ahmedabad</td>\n",
       "      <td>2015-01-02</td>\n",
       "      <td>NaN</td>\n",
       "      <td>NaN</td>\n",
       "      <td>0.97</td>\n",
       "      <td>15.69</td>\n",
       "      <td>16.46</td>\n",
       "      <td>NaN</td>\n",
       "      <td>0.97</td>\n",
       "      <td>24.55</td>\n",
       "      <td>34.06</td>\n",
       "      <td>3.68</td>\n",
       "      <td>5.50</td>\n",
       "      <td>3.77</td>\n",
       "      <td>NaN</td>\n",
       "      <td>NaN</td>\n",
       "    </tr>\n",
       "    <tr>\n",
       "      <th>2</th>\n",
       "      <td>Ahmedabad</td>\n",
       "      <td>2015-01-03</td>\n",
       "      <td>NaN</td>\n",
       "      <td>NaN</td>\n",
       "      <td>17.40</td>\n",
       "      <td>19.30</td>\n",
       "      <td>29.70</td>\n",
       "      <td>NaN</td>\n",
       "      <td>17.40</td>\n",
       "      <td>29.07</td>\n",
       "      <td>30.70</td>\n",
       "      <td>6.80</td>\n",
       "      <td>16.40</td>\n",
       "      <td>2.25</td>\n",
       "      <td>NaN</td>\n",
       "      <td>NaN</td>\n",
       "    </tr>\n",
       "    <tr>\n",
       "      <th>3</th>\n",
       "      <td>Ahmedabad</td>\n",
       "      <td>2015-01-04</td>\n",
       "      <td>NaN</td>\n",
       "      <td>NaN</td>\n",
       "      <td>1.70</td>\n",
       "      <td>18.48</td>\n",
       "      <td>17.97</td>\n",
       "      <td>NaN</td>\n",
       "      <td>1.70</td>\n",
       "      <td>18.59</td>\n",
       "      <td>36.08</td>\n",
       "      <td>4.43</td>\n",
       "      <td>10.14</td>\n",
       "      <td>1.00</td>\n",
       "      <td>NaN</td>\n",
       "      <td>NaN</td>\n",
       "    </tr>\n",
       "    <tr>\n",
       "      <th>4</th>\n",
       "      <td>Ahmedabad</td>\n",
       "      <td>2015-01-05</td>\n",
       "      <td>NaN</td>\n",
       "      <td>NaN</td>\n",
       "      <td>22.10</td>\n",
       "      <td>21.42</td>\n",
       "      <td>37.76</td>\n",
       "      <td>NaN</td>\n",
       "      <td>22.10</td>\n",
       "      <td>39.33</td>\n",
       "      <td>39.31</td>\n",
       "      <td>7.01</td>\n",
       "      <td>18.89</td>\n",
       "      <td>2.78</td>\n",
       "      <td>NaN</td>\n",
       "      <td>NaN</td>\n",
       "    </tr>\n",
       "  </tbody>\n",
       "</table>\n",
       "</div>"
      ],
      "text/plain": [
       "        City        Date  PM2.5  PM10     NO    NO2    NOx  NH3     CO    SO2  \\\n",
       "0  Ahmedabad  2015-01-01    NaN   NaN   0.92  18.22  17.15  NaN   0.92  27.64   \n",
       "1  Ahmedabad  2015-01-02    NaN   NaN   0.97  15.69  16.46  NaN   0.97  24.55   \n",
       "2  Ahmedabad  2015-01-03    NaN   NaN  17.40  19.30  29.70  NaN  17.40  29.07   \n",
       "3  Ahmedabad  2015-01-04    NaN   NaN   1.70  18.48  17.97  NaN   1.70  18.59   \n",
       "4  Ahmedabad  2015-01-05    NaN   NaN  22.10  21.42  37.76  NaN  22.10  39.33   \n",
       "\n",
       "       O3  Benzene  Toluene  Xylene  AQI AQI_Bucket  \n",
       "0  133.36     0.00     0.02    0.00  NaN        NaN  \n",
       "1   34.06     3.68     5.50    3.77  NaN        NaN  \n",
       "2   30.70     6.80    16.40    2.25  NaN        NaN  \n",
       "3   36.08     4.43    10.14    1.00  NaN        NaN  \n",
       "4   39.31     7.01    18.89    2.78  NaN        NaN  "
      ]
     },
     "execution_count": 190,
     "metadata": {},
     "output_type": "execute_result"
    }
   ],
   "source": [
    "city_day.head()"
   ]
  },
  {
   "cell_type": "code",
   "execution_count": 191,
   "id": "47d9d6cf",
   "metadata": {},
   "outputs": [
    {
     "data": {
      "text/plain": [
       "(29531, 16)"
      ]
     },
     "execution_count": 191,
     "metadata": {},
     "output_type": "execute_result"
    }
   ],
   "source": [
    "city_day.shape"
   ]
  },
  {
   "cell_type": "code",
   "execution_count": 192,
   "id": "7508ff9d",
   "metadata": {},
   "outputs": [
    {
     "data": {
      "text/plain": [
       "City           object\n",
       "Date           object\n",
       "PM2.5         float64\n",
       "PM10          float64\n",
       "NO            float64\n",
       "NO2           float64\n",
       "NOx           float64\n",
       "NH3           float64\n",
       "CO            float64\n",
       "SO2           float64\n",
       "O3            float64\n",
       "Benzene       float64\n",
       "Toluene       float64\n",
       "Xylene        float64\n",
       "AQI           float64\n",
       "AQI_Bucket     object\n",
       "dtype: object"
      ]
     },
     "execution_count": 192,
     "metadata": {},
     "output_type": "execute_result"
    }
   ],
   "source": [
    "city_day.dtypes"
   ]
  },
  {
   "cell_type": "code",
   "execution_count": 193,
   "id": "dfe894ad",
   "metadata": {},
   "outputs": [
    {
     "data": {
      "text/plain": [
       "City              0\n",
       "Date              0\n",
       "PM2.5          4598\n",
       "PM10          11140\n",
       "NO             3582\n",
       "NO2            3585\n",
       "NOx            4185\n",
       "NH3           10328\n",
       "CO             2059\n",
       "SO2            3854\n",
       "O3             4022\n",
       "Benzene        5623\n",
       "Toluene        8041\n",
       "Xylene        18109\n",
       "AQI            4681\n",
       "AQI_Bucket     4681\n",
       "dtype: int64"
      ]
     },
     "execution_count": 193,
     "metadata": {},
     "output_type": "execute_result"
    }
   ],
   "source": [
    "city_day.isnull().sum()"
   ]
  },
  {
   "cell_type": "code",
   "execution_count": 194,
   "id": "601b943c",
   "metadata": {},
   "outputs": [
    {
     "name": "stdout",
     "output_type": "stream",
     "text": [
      "<class 'pandas.core.frame.DataFrame'>\n",
      "RangeIndex: 29531 entries, 0 to 29530\n",
      "Data columns (total 16 columns):\n",
      " #   Column      Non-Null Count  Dtype  \n",
      "---  ------      --------------  -----  \n",
      " 0   City        29531 non-null  object \n",
      " 1   Date        29531 non-null  object \n",
      " 2   PM2.5       24933 non-null  float64\n",
      " 3   PM10        18391 non-null  float64\n",
      " 4   NO          25949 non-null  float64\n",
      " 5   NO2         25946 non-null  float64\n",
      " 6   NOx         25346 non-null  float64\n",
      " 7   NH3         19203 non-null  float64\n",
      " 8   CO          27472 non-null  float64\n",
      " 9   SO2         25677 non-null  float64\n",
      " 10  O3          25509 non-null  float64\n",
      " 11  Benzene     23908 non-null  float64\n",
      " 12  Toluene     21490 non-null  float64\n",
      " 13  Xylene      11422 non-null  float64\n",
      " 14  AQI         24850 non-null  float64\n",
      " 15  AQI_Bucket  24850 non-null  object \n",
      "dtypes: float64(13), object(3)\n",
      "memory usage: 3.6+ MB\n"
     ]
    }
   ],
   "source": [
    "city_day.info()"
   ]
  },
  {
   "cell_type": "markdown",
   "id": "61fe6b9a",
   "metadata": {},
   "source": [
    "### we are going to fill the null values with 'ffill' method"
   ]
  },
  {
   "cell_type": "code",
   "execution_count": 195,
   "id": "a8d136e2",
   "metadata": {},
   "outputs": [],
   "source": [
    "city_day['PM2.5'].fillna(method = 'ffill',inplace = True)\n",
    "city_day['PM10'].fillna(method = 'ffill',inplace = True)\n",
    "city_day['NO'].fillna(method = 'ffill',inplace = True)\n",
    "city_day['NO2'].fillna(method = 'ffill',inplace = True)\n",
    "city_day['NOx'].fillna(method = 'ffill',inplace = True)\n",
    "city_day['NH3'].fillna(method = 'ffill',inplace = True)\n",
    "city_day['CO'].fillna(method = 'ffill',inplace = True)\n",
    "city_day['SO2'].fillna(method = 'ffill',inplace = True)\n",
    "city_day['O3'].fillna(method = 'ffill',inplace = True)\n",
    "city_day['Benzene'].fillna(method = 'ffill',inplace = True)\n",
    "city_day['Toluene'].fillna(method = 'ffill',inplace = True)\n",
    "city_day['Xylene'].fillna(method = 'ffill',inplace = True)"
   ]
  },
  {
   "cell_type": "code",
   "execution_count": 196,
   "id": "e6721fb5",
   "metadata": {},
   "outputs": [
    {
     "data": {
      "text/plain": [
       "City             0\n",
       "Date             0\n",
       "PM2.5           27\n",
       "PM10          1594\n",
       "NO               0\n",
       "NO2              0\n",
       "NOx              0\n",
       "NH3           2009\n",
       "CO               0\n",
       "SO2              0\n",
       "O3               0\n",
       "Benzene          0\n",
       "Toluene          0\n",
       "Xylene           0\n",
       "AQI           4681\n",
       "AQI_Bucket    4681\n",
       "dtype: int64"
      ]
     },
     "execution_count": 196,
     "metadata": {},
     "output_type": "execute_result"
    }
   ],
   "source": [
    "city_day.isnull().sum()"
   ]
  },
  {
   "cell_type": "markdown",
   "id": "c2c3f26e",
   "metadata": {},
   "source": [
    "### As we can see some pollutant still have null values, so we are going to fill these values with there mean of particular pollutant"
   ]
  },
  {
   "cell_type": "code",
   "execution_count": 197,
   "id": "ac29aae1",
   "metadata": {},
   "outputs": [
    {
     "data": {
      "text/html": [
       "<div>\n",
       "<style scoped>\n",
       "    .dataframe tbody tr th:only-of-type {\n",
       "        vertical-align: middle;\n",
       "    }\n",
       "\n",
       "    .dataframe tbody tr th {\n",
       "        vertical-align: top;\n",
       "    }\n",
       "\n",
       "    .dataframe thead th {\n",
       "        text-align: right;\n",
       "    }\n",
       "</style>\n",
       "<table border=\"1\" class=\"dataframe\">\n",
       "  <thead>\n",
       "    <tr style=\"text-align: right;\">\n",
       "      <th></th>\n",
       "      <th>City</th>\n",
       "      <th>Date</th>\n",
       "      <th>PM2.5</th>\n",
       "      <th>PM10</th>\n",
       "      <th>NO</th>\n",
       "      <th>NO2</th>\n",
       "      <th>NOx</th>\n",
       "      <th>NH3</th>\n",
       "      <th>CO</th>\n",
       "      <th>SO2</th>\n",
       "      <th>O3</th>\n",
       "      <th>Benzene</th>\n",
       "      <th>Toluene</th>\n",
       "      <th>Xylene</th>\n",
       "      <th>AQI</th>\n",
       "      <th>AQI_Bucket</th>\n",
       "    </tr>\n",
       "  </thead>\n",
       "  <tbody>\n",
       "    <tr>\n",
       "      <th>count</th>\n",
       "      <td>29531</td>\n",
       "      <td>29531</td>\n",
       "      <td>29504.000000</td>\n",
       "      <td>27937.000000</td>\n",
       "      <td>29531.000000</td>\n",
       "      <td>29531.000000</td>\n",
       "      <td>29531.000000</td>\n",
       "      <td>27522.000000</td>\n",
       "      <td>29531.000000</td>\n",
       "      <td>29531.000000</td>\n",
       "      <td>29531.000000</td>\n",
       "      <td>29531.000000</td>\n",
       "      <td>29531.000000</td>\n",
       "      <td>29531.000000</td>\n",
       "      <td>24850.000000</td>\n",
       "      <td>24850</td>\n",
       "    </tr>\n",
       "    <tr>\n",
       "      <th>unique</th>\n",
       "      <td>26</td>\n",
       "      <td>2009</td>\n",
       "      <td>NaN</td>\n",
       "      <td>NaN</td>\n",
       "      <td>NaN</td>\n",
       "      <td>NaN</td>\n",
       "      <td>NaN</td>\n",
       "      <td>NaN</td>\n",
       "      <td>NaN</td>\n",
       "      <td>NaN</td>\n",
       "      <td>NaN</td>\n",
       "      <td>NaN</td>\n",
       "      <td>NaN</td>\n",
       "      <td>NaN</td>\n",
       "      <td>NaN</td>\n",
       "      <td>6</td>\n",
       "    </tr>\n",
       "    <tr>\n",
       "      <th>top</th>\n",
       "      <td>Delhi</td>\n",
       "      <td>2020-06-25</td>\n",
       "      <td>NaN</td>\n",
       "      <td>NaN</td>\n",
       "      <td>NaN</td>\n",
       "      <td>NaN</td>\n",
       "      <td>NaN</td>\n",
       "      <td>NaN</td>\n",
       "      <td>NaN</td>\n",
       "      <td>NaN</td>\n",
       "      <td>NaN</td>\n",
       "      <td>NaN</td>\n",
       "      <td>NaN</td>\n",
       "      <td>NaN</td>\n",
       "      <td>NaN</td>\n",
       "      <td>Moderate</td>\n",
       "    </tr>\n",
       "    <tr>\n",
       "      <th>freq</th>\n",
       "      <td>2009</td>\n",
       "      <td>26</td>\n",
       "      <td>NaN</td>\n",
       "      <td>NaN</td>\n",
       "      <td>NaN</td>\n",
       "      <td>NaN</td>\n",
       "      <td>NaN</td>\n",
       "      <td>NaN</td>\n",
       "      <td>NaN</td>\n",
       "      <td>NaN</td>\n",
       "      <td>NaN</td>\n",
       "      <td>NaN</td>\n",
       "      <td>NaN</td>\n",
       "      <td>NaN</td>\n",
       "      <td>NaN</td>\n",
       "      <td>8829</td>\n",
       "    </tr>\n",
       "    <tr>\n",
       "      <th>mean</th>\n",
       "      <td>NaN</td>\n",
       "      <td>NaN</td>\n",
       "      <td>66.130899</td>\n",
       "      <td>95.070437</td>\n",
       "      <td>17.201890</td>\n",
       "      <td>26.909513</td>\n",
       "      <td>32.611069</td>\n",
       "      <td>22.359410</td>\n",
       "      <td>2.292734</td>\n",
       "      <td>15.650236</td>\n",
       "      <td>34.130603</td>\n",
       "      <td>3.130408</td>\n",
       "      <td>7.027591</td>\n",
       "      <td>2.864628</td>\n",
       "      <td>166.463581</td>\n",
       "      <td>NaN</td>\n",
       "    </tr>\n",
       "    <tr>\n",
       "      <th>std</th>\n",
       "      <td>NaN</td>\n",
       "      <td>NaN</td>\n",
       "      <td>64.130750</td>\n",
       "      <td>86.577554</td>\n",
       "      <td>23.245966</td>\n",
       "      <td>23.671982</td>\n",
       "      <td>33.829601</td>\n",
       "      <td>26.695912</td>\n",
       "      <td>6.824266</td>\n",
       "      <td>20.583528</td>\n",
       "      <td>21.631257</td>\n",
       "      <td>15.988058</td>\n",
       "      <td>17.841550</td>\n",
       "      <td>5.383474</td>\n",
       "      <td>140.696585</td>\n",
       "      <td>NaN</td>\n",
       "    </tr>\n",
       "    <tr>\n",
       "      <th>min</th>\n",
       "      <td>NaN</td>\n",
       "      <td>NaN</td>\n",
       "      <td>0.040000</td>\n",
       "      <td>0.010000</td>\n",
       "      <td>0.020000</td>\n",
       "      <td>0.010000</td>\n",
       "      <td>0.000000</td>\n",
       "      <td>0.010000</td>\n",
       "      <td>0.000000</td>\n",
       "      <td>0.010000</td>\n",
       "      <td>0.010000</td>\n",
       "      <td>0.000000</td>\n",
       "      <td>0.000000</td>\n",
       "      <td>0.000000</td>\n",
       "      <td>13.000000</td>\n",
       "      <td>NaN</td>\n",
       "    </tr>\n",
       "    <tr>\n",
       "      <th>25%</th>\n",
       "      <td>NaN</td>\n",
       "      <td>NaN</td>\n",
       "      <td>29.160000</td>\n",
       "      <td>31.580000</td>\n",
       "      <td>5.900000</td>\n",
       "      <td>11.630000</td>\n",
       "      <td>13.180000</td>\n",
       "      <td>7.820000</td>\n",
       "      <td>0.500000</td>\n",
       "      <td>5.740000</td>\n",
       "      <td>18.860000</td>\n",
       "      <td>0.050000</td>\n",
       "      <td>0.280000</td>\n",
       "      <td>0.180000</td>\n",
       "      <td>81.000000</td>\n",
       "      <td>NaN</td>\n",
       "    </tr>\n",
       "    <tr>\n",
       "      <th>50%</th>\n",
       "      <td>NaN</td>\n",
       "      <td>NaN</td>\n",
       "      <td>46.850000</td>\n",
       "      <td>72.380000</td>\n",
       "      <td>9.280000</td>\n",
       "      <td>19.720000</td>\n",
       "      <td>21.980000</td>\n",
       "      <td>13.395000</td>\n",
       "      <td>0.910000</td>\n",
       "      <td>8.950000</td>\n",
       "      <td>31.480000</td>\n",
       "      <td>0.670000</td>\n",
       "      <td>1.720000</td>\n",
       "      <td>1.250000</td>\n",
       "      <td>118.000000</td>\n",
       "      <td>NaN</td>\n",
       "    </tr>\n",
       "    <tr>\n",
       "      <th>75%</th>\n",
       "      <td>NaN</td>\n",
       "      <td>NaN</td>\n",
       "      <td>78.652500</td>\n",
       "      <td>122.290000</td>\n",
       "      <td>18.560000</td>\n",
       "      <td>35.030000</td>\n",
       "      <td>38.660000</td>\n",
       "      <td>25.500000</td>\n",
       "      <td>1.490000</td>\n",
       "      <td>15.840000</td>\n",
       "      <td>44.215000</td>\n",
       "      <td>2.750000</td>\n",
       "      <td>6.710000</td>\n",
       "      <td>2.695000</td>\n",
       "      <td>208.000000</td>\n",
       "      <td>NaN</td>\n",
       "    </tr>\n",
       "    <tr>\n",
       "      <th>max</th>\n",
       "      <td>NaN</td>\n",
       "      <td>NaN</td>\n",
       "      <td>949.990000</td>\n",
       "      <td>1000.000000</td>\n",
       "      <td>390.680000</td>\n",
       "      <td>362.210000</td>\n",
       "      <td>467.630000</td>\n",
       "      <td>352.890000</td>\n",
       "      <td>175.810000</td>\n",
       "      <td>193.860000</td>\n",
       "      <td>257.730000</td>\n",
       "      <td>455.030000</td>\n",
       "      <td>454.850000</td>\n",
       "      <td>170.370000</td>\n",
       "      <td>2049.000000</td>\n",
       "      <td>NaN</td>\n",
       "    </tr>\n",
       "  </tbody>\n",
       "</table>\n",
       "</div>"
      ],
      "text/plain": [
       "         City        Date         PM2.5          PM10            NO  \\\n",
       "count   29531       29531  29504.000000  27937.000000  29531.000000   \n",
       "unique     26        2009           NaN           NaN           NaN   \n",
       "top     Delhi  2020-06-25           NaN           NaN           NaN   \n",
       "freq     2009          26           NaN           NaN           NaN   \n",
       "mean      NaN         NaN     66.130899     95.070437     17.201890   \n",
       "std       NaN         NaN     64.130750     86.577554     23.245966   \n",
       "min       NaN         NaN      0.040000      0.010000      0.020000   \n",
       "25%       NaN         NaN     29.160000     31.580000      5.900000   \n",
       "50%       NaN         NaN     46.850000     72.380000      9.280000   \n",
       "75%       NaN         NaN     78.652500    122.290000     18.560000   \n",
       "max       NaN         NaN    949.990000   1000.000000    390.680000   \n",
       "\n",
       "                 NO2           NOx           NH3            CO           SO2  \\\n",
       "count   29531.000000  29531.000000  27522.000000  29531.000000  29531.000000   \n",
       "unique           NaN           NaN           NaN           NaN           NaN   \n",
       "top              NaN           NaN           NaN           NaN           NaN   \n",
       "freq             NaN           NaN           NaN           NaN           NaN   \n",
       "mean       26.909513     32.611069     22.359410      2.292734     15.650236   \n",
       "std        23.671982     33.829601     26.695912      6.824266     20.583528   \n",
       "min         0.010000      0.000000      0.010000      0.000000      0.010000   \n",
       "25%        11.630000     13.180000      7.820000      0.500000      5.740000   \n",
       "50%        19.720000     21.980000     13.395000      0.910000      8.950000   \n",
       "75%        35.030000     38.660000     25.500000      1.490000     15.840000   \n",
       "max       362.210000    467.630000    352.890000    175.810000    193.860000   \n",
       "\n",
       "                  O3       Benzene       Toluene        Xylene           AQI  \\\n",
       "count   29531.000000  29531.000000  29531.000000  29531.000000  24850.000000   \n",
       "unique           NaN           NaN           NaN           NaN           NaN   \n",
       "top              NaN           NaN           NaN           NaN           NaN   \n",
       "freq             NaN           NaN           NaN           NaN           NaN   \n",
       "mean       34.130603      3.130408      7.027591      2.864628    166.463581   \n",
       "std        21.631257     15.988058     17.841550      5.383474    140.696585   \n",
       "min         0.010000      0.000000      0.000000      0.000000     13.000000   \n",
       "25%        18.860000      0.050000      0.280000      0.180000     81.000000   \n",
       "50%        31.480000      0.670000      1.720000      1.250000    118.000000   \n",
       "75%        44.215000      2.750000      6.710000      2.695000    208.000000   \n",
       "max       257.730000    455.030000    454.850000    170.370000   2049.000000   \n",
       "\n",
       "       AQI_Bucket  \n",
       "count       24850  \n",
       "unique          6  \n",
       "top      Moderate  \n",
       "freq         8829  \n",
       "mean          NaN  \n",
       "std           NaN  \n",
       "min           NaN  \n",
       "25%           NaN  \n",
       "50%           NaN  \n",
       "75%           NaN  \n",
       "max           NaN  "
      ]
     },
     "execution_count": 197,
     "metadata": {},
     "output_type": "execute_result"
    }
   ],
   "source": [
    "city_day.describe(include='all')"
   ]
  },
  {
   "cell_type": "code",
   "execution_count": 198,
   "id": "198966c3",
   "metadata": {},
   "outputs": [],
   "source": [
    "city_day.fillna({'PM2.5':66.130899,'PM10':95.07043,'NH3':22.3594,'AQI':166.463581},inplace = True)"
   ]
  },
  {
   "cell_type": "code",
   "execution_count": 199,
   "id": "2d708591",
   "metadata": {},
   "outputs": [
    {
     "data": {
      "text/plain": [
       "City             0\n",
       "Date             0\n",
       "PM2.5            0\n",
       "PM10             0\n",
       "NO               0\n",
       "NO2              0\n",
       "NOx              0\n",
       "NH3              0\n",
       "CO               0\n",
       "SO2              0\n",
       "O3               0\n",
       "Benzene          0\n",
       "Toluene          0\n",
       "Xylene           0\n",
       "AQI              0\n",
       "AQI_Bucket    4681\n",
       "dtype: int64"
      ]
     },
     "execution_count": 199,
     "metadata": {},
     "output_type": "execute_result"
    }
   ],
   "source": [
    "city_day.isnull().sum()"
   ]
  },
  {
   "cell_type": "markdown",
   "id": "a21f58fd",
   "metadata": {},
   "source": [
    "### Now we can see all missing values are filled with there perfect value"
   ]
  },
  {
   "cell_type": "markdown",
   "id": "0f6efee9",
   "metadata": {},
   "source": [
    "## 2.city_hour"
   ]
  },
  {
   "cell_type": "code",
   "execution_count": 200,
   "id": "ff452040",
   "metadata": {},
   "outputs": [
    {
     "data": {
      "text/html": [
       "<div>\n",
       "<style scoped>\n",
       "    .dataframe tbody tr th:only-of-type {\n",
       "        vertical-align: middle;\n",
       "    }\n",
       "\n",
       "    .dataframe tbody tr th {\n",
       "        vertical-align: top;\n",
       "    }\n",
       "\n",
       "    .dataframe thead th {\n",
       "        text-align: right;\n",
       "    }\n",
       "</style>\n",
       "<table border=\"1\" class=\"dataframe\">\n",
       "  <thead>\n",
       "    <tr style=\"text-align: right;\">\n",
       "      <th></th>\n",
       "      <th>City</th>\n",
       "      <th>Datetime</th>\n",
       "      <th>PM2.5</th>\n",
       "      <th>PM10</th>\n",
       "      <th>NO</th>\n",
       "      <th>NO2</th>\n",
       "      <th>NOx</th>\n",
       "      <th>NH3</th>\n",
       "      <th>CO</th>\n",
       "      <th>SO2</th>\n",
       "      <th>O3</th>\n",
       "      <th>Benzene</th>\n",
       "      <th>Toluene</th>\n",
       "      <th>Xylene</th>\n",
       "      <th>AQI</th>\n",
       "      <th>AQI_Bucket</th>\n",
       "    </tr>\n",
       "  </thead>\n",
       "  <tbody>\n",
       "    <tr>\n",
       "      <th>0</th>\n",
       "      <td>Ahmedabad</td>\n",
       "      <td>01-01-2015 01:00</td>\n",
       "      <td>NaN</td>\n",
       "      <td>NaN</td>\n",
       "      <td>1.00</td>\n",
       "      <td>40.01</td>\n",
       "      <td>36.37</td>\n",
       "      <td>NaN</td>\n",
       "      <td>1.00</td>\n",
       "      <td>122.07</td>\n",
       "      <td>NaN</td>\n",
       "      <td>0.0</td>\n",
       "      <td>0.0</td>\n",
       "      <td>0.0</td>\n",
       "      <td>NaN</td>\n",
       "      <td>NaN</td>\n",
       "    </tr>\n",
       "    <tr>\n",
       "      <th>1</th>\n",
       "      <td>Ahmedabad</td>\n",
       "      <td>01-01-2015 02:00</td>\n",
       "      <td>NaN</td>\n",
       "      <td>NaN</td>\n",
       "      <td>0.02</td>\n",
       "      <td>27.75</td>\n",
       "      <td>19.73</td>\n",
       "      <td>NaN</td>\n",
       "      <td>0.02</td>\n",
       "      <td>85.90</td>\n",
       "      <td>NaN</td>\n",
       "      <td>0.0</td>\n",
       "      <td>0.0</td>\n",
       "      <td>0.0</td>\n",
       "      <td>NaN</td>\n",
       "      <td>NaN</td>\n",
       "    </tr>\n",
       "    <tr>\n",
       "      <th>2</th>\n",
       "      <td>Ahmedabad</td>\n",
       "      <td>01-01-2015 03:00</td>\n",
       "      <td>NaN</td>\n",
       "      <td>NaN</td>\n",
       "      <td>0.08</td>\n",
       "      <td>19.32</td>\n",
       "      <td>11.08</td>\n",
       "      <td>NaN</td>\n",
       "      <td>0.08</td>\n",
       "      <td>52.83</td>\n",
       "      <td>NaN</td>\n",
       "      <td>0.0</td>\n",
       "      <td>0.0</td>\n",
       "      <td>0.0</td>\n",
       "      <td>NaN</td>\n",
       "      <td>NaN</td>\n",
       "    </tr>\n",
       "    <tr>\n",
       "      <th>3</th>\n",
       "      <td>Ahmedabad</td>\n",
       "      <td>01-01-2015 04:00</td>\n",
       "      <td>NaN</td>\n",
       "      <td>NaN</td>\n",
       "      <td>0.30</td>\n",
       "      <td>16.45</td>\n",
       "      <td>9.20</td>\n",
       "      <td>NaN</td>\n",
       "      <td>0.30</td>\n",
       "      <td>39.53</td>\n",
       "      <td>153.58</td>\n",
       "      <td>0.0</td>\n",
       "      <td>0.0</td>\n",
       "      <td>0.0</td>\n",
       "      <td>NaN</td>\n",
       "      <td>NaN</td>\n",
       "    </tr>\n",
       "    <tr>\n",
       "      <th>4</th>\n",
       "      <td>Ahmedabad</td>\n",
       "      <td>01-01-2015 05:00</td>\n",
       "      <td>NaN</td>\n",
       "      <td>NaN</td>\n",
       "      <td>0.12</td>\n",
       "      <td>14.90</td>\n",
       "      <td>7.85</td>\n",
       "      <td>NaN</td>\n",
       "      <td>0.12</td>\n",
       "      <td>32.63</td>\n",
       "      <td>NaN</td>\n",
       "      <td>0.0</td>\n",
       "      <td>0.0</td>\n",
       "      <td>0.0</td>\n",
       "      <td>NaN</td>\n",
       "      <td>NaN</td>\n",
       "    </tr>\n",
       "  </tbody>\n",
       "</table>\n",
       "</div>"
      ],
      "text/plain": [
       "        City          Datetime  PM2.5  PM10    NO    NO2    NOx  NH3    CO  \\\n",
       "0  Ahmedabad  01-01-2015 01:00    NaN   NaN  1.00  40.01  36.37  NaN  1.00   \n",
       "1  Ahmedabad  01-01-2015 02:00    NaN   NaN  0.02  27.75  19.73  NaN  0.02   \n",
       "2  Ahmedabad  01-01-2015 03:00    NaN   NaN  0.08  19.32  11.08  NaN  0.08   \n",
       "3  Ahmedabad  01-01-2015 04:00    NaN   NaN  0.30  16.45   9.20  NaN  0.30   \n",
       "4  Ahmedabad  01-01-2015 05:00    NaN   NaN  0.12  14.90   7.85  NaN  0.12   \n",
       "\n",
       "      SO2      O3  Benzene  Toluene  Xylene  AQI AQI_Bucket  \n",
       "0  122.07     NaN      0.0      0.0     0.0  NaN        NaN  \n",
       "1   85.90     NaN      0.0      0.0     0.0  NaN        NaN  \n",
       "2   52.83     NaN      0.0      0.0     0.0  NaN        NaN  \n",
       "3   39.53  153.58      0.0      0.0     0.0  NaN        NaN  \n",
       "4   32.63     NaN      0.0      0.0     0.0  NaN        NaN  "
      ]
     },
     "execution_count": 200,
     "metadata": {},
     "output_type": "execute_result"
    }
   ],
   "source": [
    "city_hour.head()"
   ]
  },
  {
   "cell_type": "code",
   "execution_count": 201,
   "id": "17280dbc",
   "metadata": {},
   "outputs": [
    {
     "data": {
      "text/plain": [
       "(707875, 16)"
      ]
     },
     "execution_count": 201,
     "metadata": {},
     "output_type": "execute_result"
    }
   ],
   "source": [
    "city_hour.shape"
   ]
  },
  {
   "cell_type": "code",
   "execution_count": 202,
   "id": "9e00ddd2",
   "metadata": {},
   "outputs": [
    {
     "data": {
      "text/plain": [
       "City               0\n",
       "Datetime           0\n",
       "PM2.5         145088\n",
       "PM10          296737\n",
       "NO            116632\n",
       "NO2           117122\n",
       "NOx           123224\n",
       "NH3           272542\n",
       "CO             86517\n",
       "SO2           130373\n",
       "O3            129208\n",
       "Benzene       163646\n",
       "Toluene       220607\n",
       "Xylene        455829\n",
       "AQI           129080\n",
       "AQI_Bucket    129080\n",
       "dtype: int64"
      ]
     },
     "execution_count": 202,
     "metadata": {},
     "output_type": "execute_result"
    }
   ],
   "source": [
    "city_hour.isnull().sum()"
   ]
  },
  {
   "cell_type": "markdown",
   "id": "6df53e4f",
   "metadata": {},
   "source": [
    "### we are going to fill the null values with 'ffill' method"
   ]
  },
  {
   "cell_type": "code",
   "execution_count": 203,
   "id": "b3b493fd",
   "metadata": {},
   "outputs": [],
   "source": [
    "city_hour['PM2.5'].fillna(method = 'ffill',inplace = True)\n",
    "city_hour['PM10'].fillna(method = 'ffill',inplace = True)\n",
    "city_hour['NO'].fillna(method = 'ffill',inplace = True)\n",
    "city_hour['NO2'].fillna(method = 'ffill',inplace = True)\n",
    "city_hour['NOx'].fillna(method = 'ffill',inplace = True)\n",
    "city_hour['NH3'].fillna(method = 'ffill',inplace = True)\n",
    "city_hour['CO'].fillna(method = 'ffill',inplace = True)\n",
    "city_hour['SO2'].fillna(method = 'ffill',inplace = True)\n",
    "city_hour['O3'].fillna(method = 'ffill',inplace = True)\n",
    "city_hour['Benzene'].fillna(method = 'ffill',inplace = True)\n",
    "city_hour['Toluene'].fillna(method = 'ffill',inplace = True)\n",
    "city_hour['Xylene'].fillna(method = 'ffill',inplace = True)"
   ]
  },
  {
   "cell_type": "code",
   "execution_count": 204,
   "id": "27a6e9a5",
   "metadata": {},
   "outputs": [
    {
     "data": {
      "text/plain": [
       "City               0\n",
       "Datetime           0\n",
       "PM2.5            665\n",
       "PM10           38274\n",
       "NO                 0\n",
       "NO2                0\n",
       "NOx                0\n",
       "NH3            48192\n",
       "CO                 0\n",
       "SO2                0\n",
       "O3                 3\n",
       "Benzene            0\n",
       "Toluene            0\n",
       "Xylene             0\n",
       "AQI           129080\n",
       "AQI_Bucket    129080\n",
       "dtype: int64"
      ]
     },
     "execution_count": 204,
     "metadata": {},
     "output_type": "execute_result"
    }
   ],
   "source": [
    "city_hour.isnull().sum()"
   ]
  },
  {
   "cell_type": "markdown",
   "id": "8e05574b",
   "metadata": {},
   "source": [
    "### As we can see some pollutant still have null values, so we are going to fill these values with there mean of particular pollutant"
   ]
  },
  {
   "cell_type": "code",
   "execution_count": 205,
   "id": "349fe31f",
   "metadata": {},
   "outputs": [
    {
     "data": {
      "text/html": [
       "<div>\n",
       "<style scoped>\n",
       "    .dataframe tbody tr th:only-of-type {\n",
       "        vertical-align: middle;\n",
       "    }\n",
       "\n",
       "    .dataframe tbody tr th {\n",
       "        vertical-align: top;\n",
       "    }\n",
       "\n",
       "    .dataframe thead th {\n",
       "        text-align: right;\n",
       "    }\n",
       "</style>\n",
       "<table border=\"1\" class=\"dataframe\">\n",
       "  <thead>\n",
       "    <tr style=\"text-align: right;\">\n",
       "      <th></th>\n",
       "      <th>City</th>\n",
       "      <th>Datetime</th>\n",
       "      <th>PM2.5</th>\n",
       "      <th>PM10</th>\n",
       "      <th>NO</th>\n",
       "      <th>NO2</th>\n",
       "      <th>NOx</th>\n",
       "      <th>NH3</th>\n",
       "      <th>CO</th>\n",
       "      <th>SO2</th>\n",
       "      <th>O3</th>\n",
       "      <th>Benzene</th>\n",
       "      <th>Toluene</th>\n",
       "      <th>Xylene</th>\n",
       "      <th>AQI</th>\n",
       "      <th>AQI_Bucket</th>\n",
       "    </tr>\n",
       "  </thead>\n",
       "  <tbody>\n",
       "    <tr>\n",
       "      <th>count</th>\n",
       "      <td>707875</td>\n",
       "      <td>707875</td>\n",
       "      <td>707210.000000</td>\n",
       "      <td>669601.000000</td>\n",
       "      <td>707875.000000</td>\n",
       "      <td>707875.000000</td>\n",
       "      <td>707875.000000</td>\n",
       "      <td>659683.000000</td>\n",
       "      <td>707875.000000</td>\n",
       "      <td>707875.000000</td>\n",
       "      <td>707872.000000</td>\n",
       "      <td>707875.000000</td>\n",
       "      <td>707875.000000</td>\n",
       "      <td>707875.000000</td>\n",
       "      <td>578795.000000</td>\n",
       "      <td>578795</td>\n",
       "    </tr>\n",
       "    <tr>\n",
       "      <th>unique</th>\n",
       "      <td>26</td>\n",
       "      <td>48192</td>\n",
       "      <td>NaN</td>\n",
       "      <td>NaN</td>\n",
       "      <td>NaN</td>\n",
       "      <td>NaN</td>\n",
       "      <td>NaN</td>\n",
       "      <td>NaN</td>\n",
       "      <td>NaN</td>\n",
       "      <td>NaN</td>\n",
       "      <td>NaN</td>\n",
       "      <td>NaN</td>\n",
       "      <td>NaN</td>\n",
       "      <td>NaN</td>\n",
       "      <td>NaN</td>\n",
       "      <td>6</td>\n",
       "    </tr>\n",
       "    <tr>\n",
       "      <th>top</th>\n",
       "      <td>Bengaluru</td>\n",
       "      <td>11-06-2020 11:00</td>\n",
       "      <td>NaN</td>\n",
       "      <td>NaN</td>\n",
       "      <td>NaN</td>\n",
       "      <td>NaN</td>\n",
       "      <td>NaN</td>\n",
       "      <td>NaN</td>\n",
       "      <td>NaN</td>\n",
       "      <td>NaN</td>\n",
       "      <td>NaN</td>\n",
       "      <td>NaN</td>\n",
       "      <td>NaN</td>\n",
       "      <td>NaN</td>\n",
       "      <td>NaN</td>\n",
       "      <td>Moderate</td>\n",
       "    </tr>\n",
       "    <tr>\n",
       "      <th>freq</th>\n",
       "      <td>48192</td>\n",
       "      <td>26</td>\n",
       "      <td>NaN</td>\n",
       "      <td>NaN</td>\n",
       "      <td>NaN</td>\n",
       "      <td>NaN</td>\n",
       "      <td>NaN</td>\n",
       "      <td>NaN</td>\n",
       "      <td>NaN</td>\n",
       "      <td>NaN</td>\n",
       "      <td>NaN</td>\n",
       "      <td>NaN</td>\n",
       "      <td>NaN</td>\n",
       "      <td>NaN</td>\n",
       "      <td>NaN</td>\n",
       "      <td>198991</td>\n",
       "    </tr>\n",
       "    <tr>\n",
       "      <th>mean</th>\n",
       "      <td>NaN</td>\n",
       "      <td>NaN</td>\n",
       "      <td>65.518777</td>\n",
       "      <td>94.909327</td>\n",
       "      <td>17.268706</td>\n",
       "      <td>26.812960</td>\n",
       "      <td>33.473718</td>\n",
       "      <td>21.442548</td>\n",
       "      <td>2.334911</td>\n",
       "      <td>15.018375</td>\n",
       "      <td>35.085841</td>\n",
       "      <td>3.331737</td>\n",
       "      <td>7.340007</td>\n",
       "      <td>2.931787</td>\n",
       "      <td>166.413500</td>\n",
       "      <td>NaN</td>\n",
       "    </tr>\n",
       "    <tr>\n",
       "      <th>std</th>\n",
       "      <td>NaN</td>\n",
       "      <td>NaN</td>\n",
       "      <td>75.247013</td>\n",
       "      <td>96.558741</td>\n",
       "      <td>33.156022</td>\n",
       "      <td>28.740254</td>\n",
       "      <td>44.296272</td>\n",
       "      <td>27.287127</td>\n",
       "      <td>11.103848</td>\n",
       "      <td>22.606064</td>\n",
       "      <td>31.071894</td>\n",
       "      <td>19.573137</td>\n",
       "      <td>22.189300</td>\n",
       "      <td>7.729179</td>\n",
       "      <td>162.112729</td>\n",
       "      <td>NaN</td>\n",
       "    </tr>\n",
       "    <tr>\n",
       "      <th>min</th>\n",
       "      <td>NaN</td>\n",
       "      <td>NaN</td>\n",
       "      <td>0.010000</td>\n",
       "      <td>0.010000</td>\n",
       "      <td>0.010000</td>\n",
       "      <td>0.010000</td>\n",
       "      <td>0.000000</td>\n",
       "      <td>0.010000</td>\n",
       "      <td>0.000000</td>\n",
       "      <td>0.010000</td>\n",
       "      <td>0.010000</td>\n",
       "      <td>0.000000</td>\n",
       "      <td>0.000000</td>\n",
       "      <td>0.000000</td>\n",
       "      <td>8.000000</td>\n",
       "      <td>NaN</td>\n",
       "    </tr>\n",
       "    <tr>\n",
       "      <th>25%</th>\n",
       "      <td>NaN</td>\n",
       "      <td>NaN</td>\n",
       "      <td>26.000000</td>\n",
       "      <td>31.580000</td>\n",
       "      <td>3.750000</td>\n",
       "      <td>9.880000</td>\n",
       "      <td>10.460000</td>\n",
       "      <td>7.310000</td>\n",
       "      <td>0.400000</td>\n",
       "      <td>4.880000</td>\n",
       "      <td>13.420000</td>\n",
       "      <td>0.000000</td>\n",
       "      <td>0.100000</td>\n",
       "      <td>0.180000</td>\n",
       "      <td>79.000000</td>\n",
       "      <td>NaN</td>\n",
       "    </tr>\n",
       "    <tr>\n",
       "      <th>50%</th>\n",
       "      <td>NaN</td>\n",
       "      <td>NaN</td>\n",
       "      <td>44.500000</td>\n",
       "      <td>72.380000</td>\n",
       "      <td>8.240000</td>\n",
       "      <td>17.640000</td>\n",
       "      <td>18.900000</td>\n",
       "      <td>12.870000</td>\n",
       "      <td>0.810000</td>\n",
       "      <td>7.890000</td>\n",
       "      <td>26.720000</td>\n",
       "      <td>0.490000</td>\n",
       "      <td>1.290000</td>\n",
       "      <td>0.950000</td>\n",
       "      <td>116.000000</td>\n",
       "      <td>NaN</td>\n",
       "    </tr>\n",
       "    <tr>\n",
       "      <th>75%</th>\n",
       "      <td>NaN</td>\n",
       "      <td>NaN</td>\n",
       "      <td>74.870000</td>\n",
       "      <td>118.330000</td>\n",
       "      <td>15.590000</td>\n",
       "      <td>33.770000</td>\n",
       "      <td>36.560000</td>\n",
       "      <td>24.270000</td>\n",
       "      <td>1.420000</td>\n",
       "      <td>14.890000</td>\n",
       "      <td>46.340000</td>\n",
       "      <td>2.430000</td>\n",
       "      <td>6.060000</td>\n",
       "      <td>2.620000</td>\n",
       "      <td>208.000000</td>\n",
       "      <td>NaN</td>\n",
       "    </tr>\n",
       "    <tr>\n",
       "      <th>max</th>\n",
       "      <td>NaN</td>\n",
       "      <td>NaN</td>\n",
       "      <td>999.990000</td>\n",
       "      <td>1000.000000</td>\n",
       "      <td>499.990000</td>\n",
       "      <td>499.510000</td>\n",
       "      <td>498.610000</td>\n",
       "      <td>499.970000</td>\n",
       "      <td>498.570000</td>\n",
       "      <td>199.960000</td>\n",
       "      <td>497.620000</td>\n",
       "      <td>498.070000</td>\n",
       "      <td>499.400000</td>\n",
       "      <td>499.990000</td>\n",
       "      <td>3133.000000</td>\n",
       "      <td>NaN</td>\n",
       "    </tr>\n",
       "  </tbody>\n",
       "</table>\n",
       "</div>"
      ],
      "text/plain": [
       "             City          Datetime          PM2.5           PM10  \\\n",
       "count      707875            707875  707210.000000  669601.000000   \n",
       "unique         26             48192            NaN            NaN   \n",
       "top     Bengaluru  11-06-2020 11:00            NaN            NaN   \n",
       "freq        48192                26            NaN            NaN   \n",
       "mean          NaN               NaN      65.518777      94.909327   \n",
       "std           NaN               NaN      75.247013      96.558741   \n",
       "min           NaN               NaN       0.010000       0.010000   \n",
       "25%           NaN               NaN      26.000000      31.580000   \n",
       "50%           NaN               NaN      44.500000      72.380000   \n",
       "75%           NaN               NaN      74.870000     118.330000   \n",
       "max           NaN               NaN     999.990000    1000.000000   \n",
       "\n",
       "                   NO            NO2            NOx            NH3  \\\n",
       "count   707875.000000  707875.000000  707875.000000  659683.000000   \n",
       "unique            NaN            NaN            NaN            NaN   \n",
       "top               NaN            NaN            NaN            NaN   \n",
       "freq              NaN            NaN            NaN            NaN   \n",
       "mean        17.268706      26.812960      33.473718      21.442548   \n",
       "std         33.156022      28.740254      44.296272      27.287127   \n",
       "min          0.010000       0.010000       0.000000       0.010000   \n",
       "25%          3.750000       9.880000      10.460000       7.310000   \n",
       "50%          8.240000      17.640000      18.900000      12.870000   \n",
       "75%         15.590000      33.770000      36.560000      24.270000   \n",
       "max        499.990000     499.510000     498.610000     499.970000   \n",
       "\n",
       "                   CO            SO2             O3        Benzene  \\\n",
       "count   707875.000000  707875.000000  707872.000000  707875.000000   \n",
       "unique            NaN            NaN            NaN            NaN   \n",
       "top               NaN            NaN            NaN            NaN   \n",
       "freq              NaN            NaN            NaN            NaN   \n",
       "mean         2.334911      15.018375      35.085841       3.331737   \n",
       "std         11.103848      22.606064      31.071894      19.573137   \n",
       "min          0.000000       0.010000       0.010000       0.000000   \n",
       "25%          0.400000       4.880000      13.420000       0.000000   \n",
       "50%          0.810000       7.890000      26.720000       0.490000   \n",
       "75%          1.420000      14.890000      46.340000       2.430000   \n",
       "max        498.570000     199.960000     497.620000     498.070000   \n",
       "\n",
       "              Toluene         Xylene            AQI AQI_Bucket  \n",
       "count   707875.000000  707875.000000  578795.000000     578795  \n",
       "unique            NaN            NaN            NaN          6  \n",
       "top               NaN            NaN            NaN   Moderate  \n",
       "freq              NaN            NaN            NaN     198991  \n",
       "mean         7.340007       2.931787     166.413500        NaN  \n",
       "std         22.189300       7.729179     162.112729        NaN  \n",
       "min          0.000000       0.000000       8.000000        NaN  \n",
       "25%          0.100000       0.180000      79.000000        NaN  \n",
       "50%          1.290000       0.950000     116.000000        NaN  \n",
       "75%          6.060000       2.620000     208.000000        NaN  \n",
       "max        499.400000     499.990000    3133.000000        NaN  "
      ]
     },
     "execution_count": 205,
     "metadata": {},
     "output_type": "execute_result"
    }
   ],
   "source": [
    "city_hour.describe(include='all')"
   ]
  },
  {
   "cell_type": "code",
   "execution_count": 206,
   "id": "562f487e",
   "metadata": {},
   "outputs": [],
   "source": [
    "city_hour.fillna({'PM2.5':65.518777,'PM10':94.909327,'NH3':21.442548,'AQI':166.413500},inplace = True)"
   ]
  },
  {
   "cell_type": "code",
   "execution_count": 207,
   "id": "0f5f5998",
   "metadata": {},
   "outputs": [
    {
     "data": {
      "text/plain": [
       "City               0\n",
       "Datetime           0\n",
       "PM2.5              0\n",
       "PM10               0\n",
       "NO                 0\n",
       "NO2                0\n",
       "NOx                0\n",
       "NH3                0\n",
       "CO                 0\n",
       "SO2                0\n",
       "O3                 3\n",
       "Benzene            0\n",
       "Toluene            0\n",
       "Xylene             0\n",
       "AQI                0\n",
       "AQI_Bucket    129080\n",
       "dtype: int64"
      ]
     },
     "execution_count": 207,
     "metadata": {},
     "output_type": "execute_result"
    }
   ],
   "source": [
    "city_hour.isnull().sum()"
   ]
  },
  {
   "cell_type": "markdown",
   "id": "469b7bd5",
   "metadata": {},
   "source": [
    "### Now we can see all missing values are filled with there perfect value"
   ]
  },
  {
   "cell_type": "markdown",
   "id": "6645b304",
   "metadata": {},
   "source": [
    "## 3.station_day"
   ]
  },
  {
   "cell_type": "code",
   "execution_count": 208,
   "id": "92c6b800",
   "metadata": {},
   "outputs": [
    {
     "data": {
      "text/html": [
       "<div>\n",
       "<style scoped>\n",
       "    .dataframe tbody tr th:only-of-type {\n",
       "        vertical-align: middle;\n",
       "    }\n",
       "\n",
       "    .dataframe tbody tr th {\n",
       "        vertical-align: top;\n",
       "    }\n",
       "\n",
       "    .dataframe thead th {\n",
       "        text-align: right;\n",
       "    }\n",
       "</style>\n",
       "<table border=\"1\" class=\"dataframe\">\n",
       "  <thead>\n",
       "    <tr style=\"text-align: right;\">\n",
       "      <th></th>\n",
       "      <th>StationId</th>\n",
       "      <th>Date</th>\n",
       "      <th>PM2.5</th>\n",
       "      <th>PM10</th>\n",
       "      <th>NO</th>\n",
       "      <th>NO2</th>\n",
       "      <th>NOx</th>\n",
       "      <th>NH3</th>\n",
       "      <th>CO</th>\n",
       "      <th>SO2</th>\n",
       "      <th>O3</th>\n",
       "      <th>Benzene</th>\n",
       "      <th>Toluene</th>\n",
       "      <th>Xylene</th>\n",
       "      <th>AQI</th>\n",
       "      <th>AQI_Bucket</th>\n",
       "    </tr>\n",
       "  </thead>\n",
       "  <tbody>\n",
       "    <tr>\n",
       "      <th>0</th>\n",
       "      <td>AP001</td>\n",
       "      <td>24-11-2017</td>\n",
       "      <td>71.36</td>\n",
       "      <td>115.75</td>\n",
       "      <td>1.75</td>\n",
       "      <td>20.65</td>\n",
       "      <td>12.40</td>\n",
       "      <td>12.19</td>\n",
       "      <td>0.10</td>\n",
       "      <td>10.76</td>\n",
       "      <td>109.26</td>\n",
       "      <td>0.17</td>\n",
       "      <td>5.92</td>\n",
       "      <td>0.10</td>\n",
       "      <td>NaN</td>\n",
       "      <td>NaN</td>\n",
       "    </tr>\n",
       "    <tr>\n",
       "      <th>1</th>\n",
       "      <td>AP001</td>\n",
       "      <td>25-11-2017</td>\n",
       "      <td>81.40</td>\n",
       "      <td>124.50</td>\n",
       "      <td>1.44</td>\n",
       "      <td>20.50</td>\n",
       "      <td>12.08</td>\n",
       "      <td>10.72</td>\n",
       "      <td>0.12</td>\n",
       "      <td>15.24</td>\n",
       "      <td>127.09</td>\n",
       "      <td>0.20</td>\n",
       "      <td>6.50</td>\n",
       "      <td>0.06</td>\n",
       "      <td>184.0</td>\n",
       "      <td>Moderate</td>\n",
       "    </tr>\n",
       "    <tr>\n",
       "      <th>2</th>\n",
       "      <td>AP001</td>\n",
       "      <td>26-11-2017</td>\n",
       "      <td>78.32</td>\n",
       "      <td>129.06</td>\n",
       "      <td>1.26</td>\n",
       "      <td>26.00</td>\n",
       "      <td>14.85</td>\n",
       "      <td>10.28</td>\n",
       "      <td>0.14</td>\n",
       "      <td>26.96</td>\n",
       "      <td>117.44</td>\n",
       "      <td>0.22</td>\n",
       "      <td>7.95</td>\n",
       "      <td>0.08</td>\n",
       "      <td>197.0</td>\n",
       "      <td>Moderate</td>\n",
       "    </tr>\n",
       "    <tr>\n",
       "      <th>3</th>\n",
       "      <td>AP001</td>\n",
       "      <td>27-11-2017</td>\n",
       "      <td>88.76</td>\n",
       "      <td>135.32</td>\n",
       "      <td>6.60</td>\n",
       "      <td>30.85</td>\n",
       "      <td>21.77</td>\n",
       "      <td>12.91</td>\n",
       "      <td>0.11</td>\n",
       "      <td>33.59</td>\n",
       "      <td>111.81</td>\n",
       "      <td>0.29</td>\n",
       "      <td>7.63</td>\n",
       "      <td>0.12</td>\n",
       "      <td>198.0</td>\n",
       "      <td>Moderate</td>\n",
       "    </tr>\n",
       "    <tr>\n",
       "      <th>4</th>\n",
       "      <td>AP001</td>\n",
       "      <td>28-11-2017</td>\n",
       "      <td>64.18</td>\n",
       "      <td>104.09</td>\n",
       "      <td>2.56</td>\n",
       "      <td>28.07</td>\n",
       "      <td>17.01</td>\n",
       "      <td>11.42</td>\n",
       "      <td>0.09</td>\n",
       "      <td>19.00</td>\n",
       "      <td>138.18</td>\n",
       "      <td>0.17</td>\n",
       "      <td>5.02</td>\n",
       "      <td>0.07</td>\n",
       "      <td>188.0</td>\n",
       "      <td>Moderate</td>\n",
       "    </tr>\n",
       "  </tbody>\n",
       "</table>\n",
       "</div>"
      ],
      "text/plain": [
       "  StationId        Date  PM2.5    PM10    NO    NO2    NOx    NH3    CO  \\\n",
       "0     AP001  24-11-2017  71.36  115.75  1.75  20.65  12.40  12.19  0.10   \n",
       "1     AP001  25-11-2017  81.40  124.50  1.44  20.50  12.08  10.72  0.12   \n",
       "2     AP001  26-11-2017  78.32  129.06  1.26  26.00  14.85  10.28  0.14   \n",
       "3     AP001  27-11-2017  88.76  135.32  6.60  30.85  21.77  12.91  0.11   \n",
       "4     AP001  28-11-2017  64.18  104.09  2.56  28.07  17.01  11.42  0.09   \n",
       "\n",
       "     SO2      O3  Benzene  Toluene  Xylene    AQI AQI_Bucket  \n",
       "0  10.76  109.26     0.17     5.92    0.10    NaN        NaN  \n",
       "1  15.24  127.09     0.20     6.50    0.06  184.0   Moderate  \n",
       "2  26.96  117.44     0.22     7.95    0.08  197.0   Moderate  \n",
       "3  33.59  111.81     0.29     7.63    0.12  198.0   Moderate  \n",
       "4  19.00  138.18     0.17     5.02    0.07  188.0   Moderate  "
      ]
     },
     "execution_count": 208,
     "metadata": {},
     "output_type": "execute_result"
    }
   ],
   "source": [
    "station_day.head()"
   ]
  },
  {
   "cell_type": "code",
   "execution_count": 209,
   "id": "6d38ce4a",
   "metadata": {},
   "outputs": [
    {
     "data": {
      "text/plain": [
       "(108035, 16)"
      ]
     },
     "execution_count": 209,
     "metadata": {},
     "output_type": "execute_result"
    }
   ],
   "source": [
    "station_day.shape"
   ]
  },
  {
   "cell_type": "code",
   "execution_count": 210,
   "id": "0568d632",
   "metadata": {},
   "outputs": [
    {
     "data": {
      "text/plain": [
       "StationId         0\n",
       "Date              0\n",
       "PM2.5         21625\n",
       "PM10          42706\n",
       "NO            17106\n",
       "NO2           16547\n",
       "NOx           15500\n",
       "NH3           48105\n",
       "CO            12998\n",
       "SO2           25204\n",
       "O3            25568\n",
       "Benzene       31455\n",
       "Toluene       38702\n",
       "Xylene        85137\n",
       "AQI           21010\n",
       "AQI_Bucket    21010\n",
       "dtype: int64"
      ]
     },
     "execution_count": 210,
     "metadata": {},
     "output_type": "execute_result"
    }
   ],
   "source": [
    "station_day.isnull().sum()"
   ]
  },
  {
   "cell_type": "markdown",
   "id": "df2099c0",
   "metadata": {},
   "source": [
    "### we are going to fill the null values with 'ffill' method"
   ]
  },
  {
   "cell_type": "code",
   "execution_count": 211,
   "id": "52890d2b",
   "metadata": {},
   "outputs": [],
   "source": [
    "station_day['PM2.5'].fillna(method = 'ffill',inplace = True)\n",
    "station_day['PM10'].fillna(method = 'ffill',inplace = True)\n",
    "station_day['NO'].fillna(method = 'ffill',inplace = True)\n",
    "station_day['NO2'].fillna(method = 'ffill',inplace = True)\n",
    "station_day['NOx'].fillna(method = 'ffill',inplace = True)\n",
    "station_day['NH3'].fillna(method = 'ffill',inplace = True)\n",
    "station_day['CO'].fillna(method = 'ffill',inplace = True)\n",
    "station_day['SO2'].fillna(method = 'ffill',inplace = True)\n",
    "station_day['O3'].fillna(method = 'ffill',inplace = True)\n",
    "station_day['Benzene'].fillna(method = 'ffill',inplace = True)\n",
    "station_day['Toluene'].fillna(method = 'ffill',inplace = True)\n",
    "station_day['Xylene'].fillna(method = 'ffill',inplace = True)"
   ]
  },
  {
   "cell_type": "code",
   "execution_count": 212,
   "id": "7e4296c0",
   "metadata": {},
   "outputs": [
    {
     "data": {
      "text/plain": [
       "StationId         0\n",
       "Date              0\n",
       "PM2.5             0\n",
       "PM10              0\n",
       "NO                0\n",
       "NO2               0\n",
       "NOx               0\n",
       "NH3               0\n",
       "CO                0\n",
       "SO2               0\n",
       "O3                0\n",
       "Benzene           0\n",
       "Toluene           0\n",
       "Xylene            0\n",
       "AQI           21010\n",
       "AQI_Bucket    21010\n",
       "dtype: int64"
      ]
     },
     "execution_count": 212,
     "metadata": {},
     "output_type": "execute_result"
    }
   ],
   "source": [
    "station_day.isnull().sum()"
   ]
  },
  {
   "cell_type": "code",
   "execution_count": 213,
   "id": "6548a8c4",
   "metadata": {},
   "outputs": [
    {
     "data": {
      "text/html": [
       "<div>\n",
       "<style scoped>\n",
       "    .dataframe tbody tr th:only-of-type {\n",
       "        vertical-align: middle;\n",
       "    }\n",
       "\n",
       "    .dataframe tbody tr th {\n",
       "        vertical-align: top;\n",
       "    }\n",
       "\n",
       "    .dataframe thead th {\n",
       "        text-align: right;\n",
       "    }\n",
       "</style>\n",
       "<table border=\"1\" class=\"dataframe\">\n",
       "  <thead>\n",
       "    <tr style=\"text-align: right;\">\n",
       "      <th></th>\n",
       "      <th>StationId</th>\n",
       "      <th>Date</th>\n",
       "      <th>PM2.5</th>\n",
       "      <th>PM10</th>\n",
       "      <th>NO</th>\n",
       "      <th>NO2</th>\n",
       "      <th>NOx</th>\n",
       "      <th>NH3</th>\n",
       "      <th>CO</th>\n",
       "      <th>SO2</th>\n",
       "      <th>O3</th>\n",
       "      <th>Benzene</th>\n",
       "      <th>Toluene</th>\n",
       "      <th>Xylene</th>\n",
       "      <th>AQI</th>\n",
       "      <th>AQI_Bucket</th>\n",
       "    </tr>\n",
       "  </thead>\n",
       "  <tbody>\n",
       "    <tr>\n",
       "      <th>count</th>\n",
       "      <td>108035</td>\n",
       "      <td>108035</td>\n",
       "      <td>108035.000000</td>\n",
       "      <td>108035.000000</td>\n",
       "      <td>108035.000000</td>\n",
       "      <td>108035.000000</td>\n",
       "      <td>108035.000000</td>\n",
       "      <td>108035.000000</td>\n",
       "      <td>108035.000000</td>\n",
       "      <td>108035.000000</td>\n",
       "      <td>108035.000000</td>\n",
       "      <td>108035.000000</td>\n",
       "      <td>108035.000000</td>\n",
       "      <td>108035.000000</td>\n",
       "      <td>87025.000000</td>\n",
       "      <td>87025</td>\n",
       "    </tr>\n",
       "    <tr>\n",
       "      <th>unique</th>\n",
       "      <td>110</td>\n",
       "      <td>2009</td>\n",
       "      <td>NaN</td>\n",
       "      <td>NaN</td>\n",
       "      <td>NaN</td>\n",
       "      <td>NaN</td>\n",
       "      <td>NaN</td>\n",
       "      <td>NaN</td>\n",
       "      <td>NaN</td>\n",
       "      <td>NaN</td>\n",
       "      <td>NaN</td>\n",
       "      <td>NaN</td>\n",
       "      <td>NaN</td>\n",
       "      <td>NaN</td>\n",
       "      <td>NaN</td>\n",
       "      <td>6</td>\n",
       "    </tr>\n",
       "    <tr>\n",
       "      <th>top</th>\n",
       "      <td>DL008</td>\n",
       "      <td>13-06-2020</td>\n",
       "      <td>NaN</td>\n",
       "      <td>NaN</td>\n",
       "      <td>NaN</td>\n",
       "      <td>NaN</td>\n",
       "      <td>NaN</td>\n",
       "      <td>NaN</td>\n",
       "      <td>NaN</td>\n",
       "      <td>NaN</td>\n",
       "      <td>NaN</td>\n",
       "      <td>NaN</td>\n",
       "      <td>NaN</td>\n",
       "      <td>NaN</td>\n",
       "      <td>NaN</td>\n",
       "      <td>Moderate</td>\n",
       "    </tr>\n",
       "    <tr>\n",
       "      <th>freq</th>\n",
       "      <td>2009</td>\n",
       "      <td>108</td>\n",
       "      <td>NaN</td>\n",
       "      <td>NaN</td>\n",
       "      <td>NaN</td>\n",
       "      <td>NaN</td>\n",
       "      <td>NaN</td>\n",
       "      <td>NaN</td>\n",
       "      <td>NaN</td>\n",
       "      <td>NaN</td>\n",
       "      <td>NaN</td>\n",
       "      <td>NaN</td>\n",
       "      <td>NaN</td>\n",
       "      <td>NaN</td>\n",
       "      <td>NaN</td>\n",
       "      <td>29417</td>\n",
       "    </tr>\n",
       "    <tr>\n",
       "      <th>mean</th>\n",
       "      <td>NaN</td>\n",
       "      <td>NaN</td>\n",
       "      <td>76.331760</td>\n",
       "      <td>130.706051</td>\n",
       "      <td>22.208852</td>\n",
       "      <td>34.094640</td>\n",
       "      <td>39.670632</td>\n",
       "      <td>27.075086</td>\n",
       "      <td>1.658368</td>\n",
       "      <td>12.644834</td>\n",
       "      <td>38.604680</td>\n",
       "      <td>3.183034</td>\n",
       "      <td>18.259476</td>\n",
       "      <td>2.057581</td>\n",
       "      <td>179.749290</td>\n",
       "      <td>NaN</td>\n",
       "    </tr>\n",
       "    <tr>\n",
       "      <th>std</th>\n",
       "      <td>NaN</td>\n",
       "      <td>NaN</td>\n",
       "      <td>76.136824</td>\n",
       "      <td>114.559250</td>\n",
       "      <td>33.668653</td>\n",
       "      <td>29.977547</td>\n",
       "      <td>44.537631</td>\n",
       "      <td>28.241088</td>\n",
       "      <td>4.422291</td>\n",
       "      <td>13.763347</td>\n",
       "      <td>48.359579</td>\n",
       "      <td>10.713126</td>\n",
       "      <td>34.062984</td>\n",
       "      <td>4.275254</td>\n",
       "      <td>131.324339</td>\n",
       "      <td>NaN</td>\n",
       "    </tr>\n",
       "    <tr>\n",
       "      <th>min</th>\n",
       "      <td>NaN</td>\n",
       "      <td>NaN</td>\n",
       "      <td>0.020000</td>\n",
       "      <td>0.010000</td>\n",
       "      <td>0.010000</td>\n",
       "      <td>0.010000</td>\n",
       "      <td>0.000000</td>\n",
       "      <td>0.010000</td>\n",
       "      <td>0.000000</td>\n",
       "      <td>0.010000</td>\n",
       "      <td>0.010000</td>\n",
       "      <td>0.000000</td>\n",
       "      <td>0.000000</td>\n",
       "      <td>0.000000</td>\n",
       "      <td>8.000000</td>\n",
       "      <td>NaN</td>\n",
       "    </tr>\n",
       "    <tr>\n",
       "      <th>25%</th>\n",
       "      <td>NaN</td>\n",
       "      <td>NaN</td>\n",
       "      <td>28.710000</td>\n",
       "      <td>45.000000</td>\n",
       "      <td>4.690000</td>\n",
       "      <td>14.000000</td>\n",
       "      <td>13.500000</td>\n",
       "      <td>7.760000</td>\n",
       "      <td>0.520000</td>\n",
       "      <td>5.340000</td>\n",
       "      <td>17.050000</td>\n",
       "      <td>0.100000</td>\n",
       "      <td>0.390000</td>\n",
       "      <td>0.000000</td>\n",
       "      <td>86.000000</td>\n",
       "      <td>NaN</td>\n",
       "    </tr>\n",
       "    <tr>\n",
       "      <th>50%</th>\n",
       "      <td>NaN</td>\n",
       "      <td>NaN</td>\n",
       "      <td>52.260000</td>\n",
       "      <td>102.380000</td>\n",
       "      <td>10.080000</td>\n",
       "      <td>25.970000</td>\n",
       "      <td>25.260000</td>\n",
       "      <td>19.960000</td>\n",
       "      <td>0.930000</td>\n",
       "      <td>9.210000</td>\n",
       "      <td>27.790000</td>\n",
       "      <td>1.040000</td>\n",
       "      <td>3.290000</td>\n",
       "      <td>0.400000</td>\n",
       "      <td>132.000000</td>\n",
       "      <td>NaN</td>\n",
       "    </tr>\n",
       "    <tr>\n",
       "      <th>75%</th>\n",
       "      <td>NaN</td>\n",
       "      <td>NaN</td>\n",
       "      <td>94.560000</td>\n",
       "      <td>164.175000</td>\n",
       "      <td>23.550000</td>\n",
       "      <td>45.460000</td>\n",
       "      <td>48.460000</td>\n",
       "      <td>34.850000</td>\n",
       "      <td>1.450000</td>\n",
       "      <td>14.700000</td>\n",
       "      <td>45.690000</td>\n",
       "      <td>3.460000</td>\n",
       "      <td>17.620000</td>\n",
       "      <td>2.600000</td>\n",
       "      <td>254.000000</td>\n",
       "      <td>NaN</td>\n",
       "    </tr>\n",
       "    <tr>\n",
       "      <th>max</th>\n",
       "      <td>NaN</td>\n",
       "      <td>NaN</td>\n",
       "      <td>1000.000000</td>\n",
       "      <td>1000.000000</td>\n",
       "      <td>470.000000</td>\n",
       "      <td>448.050000</td>\n",
       "      <td>467.630000</td>\n",
       "      <td>418.900000</td>\n",
       "      <td>175.810000</td>\n",
       "      <td>195.650000</td>\n",
       "      <td>963.000000</td>\n",
       "      <td>455.030000</td>\n",
       "      <td>454.850000</td>\n",
       "      <td>170.370000</td>\n",
       "      <td>2049.000000</td>\n",
       "      <td>NaN</td>\n",
       "    </tr>\n",
       "  </tbody>\n",
       "</table>\n",
       "</div>"
      ],
      "text/plain": [
       "       StationId        Date          PM2.5           PM10             NO  \\\n",
       "count     108035      108035  108035.000000  108035.000000  108035.000000   \n",
       "unique       110        2009            NaN            NaN            NaN   \n",
       "top        DL008  13-06-2020            NaN            NaN            NaN   \n",
       "freq        2009         108            NaN            NaN            NaN   \n",
       "mean         NaN         NaN      76.331760     130.706051      22.208852   \n",
       "std          NaN         NaN      76.136824     114.559250      33.668653   \n",
       "min          NaN         NaN       0.020000       0.010000       0.010000   \n",
       "25%          NaN         NaN      28.710000      45.000000       4.690000   \n",
       "50%          NaN         NaN      52.260000     102.380000      10.080000   \n",
       "75%          NaN         NaN      94.560000     164.175000      23.550000   \n",
       "max          NaN         NaN    1000.000000    1000.000000     470.000000   \n",
       "\n",
       "                  NO2            NOx            NH3             CO  \\\n",
       "count   108035.000000  108035.000000  108035.000000  108035.000000   \n",
       "unique            NaN            NaN            NaN            NaN   \n",
       "top               NaN            NaN            NaN            NaN   \n",
       "freq              NaN            NaN            NaN            NaN   \n",
       "mean        34.094640      39.670632      27.075086       1.658368   \n",
       "std         29.977547      44.537631      28.241088       4.422291   \n",
       "min          0.010000       0.000000       0.010000       0.000000   \n",
       "25%         14.000000      13.500000       7.760000       0.520000   \n",
       "50%         25.970000      25.260000      19.960000       0.930000   \n",
       "75%         45.460000      48.460000      34.850000       1.450000   \n",
       "max        448.050000     467.630000     418.900000     175.810000   \n",
       "\n",
       "                  SO2             O3        Benzene        Toluene  \\\n",
       "count   108035.000000  108035.000000  108035.000000  108035.000000   \n",
       "unique            NaN            NaN            NaN            NaN   \n",
       "top               NaN            NaN            NaN            NaN   \n",
       "freq              NaN            NaN            NaN            NaN   \n",
       "mean        12.644834      38.604680       3.183034      18.259476   \n",
       "std         13.763347      48.359579      10.713126      34.062984   \n",
       "min          0.010000       0.010000       0.000000       0.000000   \n",
       "25%          5.340000      17.050000       0.100000       0.390000   \n",
       "50%          9.210000      27.790000       1.040000       3.290000   \n",
       "75%         14.700000      45.690000       3.460000      17.620000   \n",
       "max        195.650000     963.000000     455.030000     454.850000   \n",
       "\n",
       "               Xylene           AQI AQI_Bucket  \n",
       "count   108035.000000  87025.000000      87025  \n",
       "unique            NaN           NaN          6  \n",
       "top               NaN           NaN   Moderate  \n",
       "freq              NaN           NaN      29417  \n",
       "mean         2.057581    179.749290        NaN  \n",
       "std          4.275254    131.324339        NaN  \n",
       "min          0.000000      8.000000        NaN  \n",
       "25%          0.000000     86.000000        NaN  \n",
       "50%          0.400000    132.000000        NaN  \n",
       "75%          2.600000    254.000000        NaN  \n",
       "max        170.370000   2049.000000        NaN  "
      ]
     },
     "execution_count": 213,
     "metadata": {},
     "output_type": "execute_result"
    }
   ],
   "source": [
    "station_day.describe(include='all')"
   ]
  },
  {
   "cell_type": "code",
   "execution_count": 214,
   "id": "71eca774",
   "metadata": {},
   "outputs": [],
   "source": [
    "station_day.fillna({'AQI':179.749290},inplace = True)"
   ]
  },
  {
   "cell_type": "code",
   "execution_count": 215,
   "id": "fb58a226",
   "metadata": {},
   "outputs": [
    {
     "data": {
      "text/plain": [
       "StationId         0\n",
       "Date              0\n",
       "PM2.5             0\n",
       "PM10              0\n",
       "NO                0\n",
       "NO2               0\n",
       "NOx               0\n",
       "NH3               0\n",
       "CO                0\n",
       "SO2               0\n",
       "O3                0\n",
       "Benzene           0\n",
       "Toluene           0\n",
       "Xylene            0\n",
       "AQI               0\n",
       "AQI_Bucket    21010\n",
       "dtype: int64"
      ]
     },
     "execution_count": 215,
     "metadata": {},
     "output_type": "execute_result"
    }
   ],
   "source": [
    "station_day.isnull().sum()"
   ]
  },
  {
   "cell_type": "markdown",
   "id": "bc634cb1",
   "metadata": {},
   "source": [
    "### Now we can see all missing values are filled with 'ffill' method"
   ]
  },
  {
   "cell_type": "markdown",
   "id": "e104599f",
   "metadata": {},
   "source": [
    "## 4.station_hour"
   ]
  },
  {
   "cell_type": "code",
   "execution_count": 216,
   "id": "d9366de5",
   "metadata": {},
   "outputs": [
    {
     "data": {
      "text/html": [
       "<div>\n",
       "<style scoped>\n",
       "    .dataframe tbody tr th:only-of-type {\n",
       "        vertical-align: middle;\n",
       "    }\n",
       "\n",
       "    .dataframe tbody tr th {\n",
       "        vertical-align: top;\n",
       "    }\n",
       "\n",
       "    .dataframe thead th {\n",
       "        text-align: right;\n",
       "    }\n",
       "</style>\n",
       "<table border=\"1\" class=\"dataframe\">\n",
       "  <thead>\n",
       "    <tr style=\"text-align: right;\">\n",
       "      <th></th>\n",
       "      <th>StationId</th>\n",
       "      <th>Datetime</th>\n",
       "      <th>PM2.5</th>\n",
       "      <th>PM10</th>\n",
       "      <th>NO</th>\n",
       "      <th>NO2</th>\n",
       "      <th>NOx</th>\n",
       "      <th>NH3</th>\n",
       "      <th>CO</th>\n",
       "      <th>SO2</th>\n",
       "      <th>O3</th>\n",
       "      <th>Benzene</th>\n",
       "      <th>Toluene</th>\n",
       "      <th>Xylene</th>\n",
       "      <th>AQI</th>\n",
       "      <th>AQI_Bucket</th>\n",
       "    </tr>\n",
       "  </thead>\n",
       "  <tbody>\n",
       "    <tr>\n",
       "      <th>0</th>\n",
       "      <td>AP001</td>\n",
       "      <td>24-11-2017 17:00</td>\n",
       "      <td>60.50</td>\n",
       "      <td>98.00</td>\n",
       "      <td>2.35</td>\n",
       "      <td>30.80</td>\n",
       "      <td>18.25</td>\n",
       "      <td>8.50</td>\n",
       "      <td>0.1</td>\n",
       "      <td>11.85</td>\n",
       "      <td>126.40</td>\n",
       "      <td>0.1</td>\n",
       "      <td>6.10</td>\n",
       "      <td>0.10</td>\n",
       "      <td>NaN</td>\n",
       "      <td>NaN</td>\n",
       "    </tr>\n",
       "    <tr>\n",
       "      <th>1</th>\n",
       "      <td>AP001</td>\n",
       "      <td>24-11-2017 18:00</td>\n",
       "      <td>65.50</td>\n",
       "      <td>111.25</td>\n",
       "      <td>2.70</td>\n",
       "      <td>24.20</td>\n",
       "      <td>15.07</td>\n",
       "      <td>9.77</td>\n",
       "      <td>0.1</td>\n",
       "      <td>13.17</td>\n",
       "      <td>117.12</td>\n",
       "      <td>0.1</td>\n",
       "      <td>6.25</td>\n",
       "      <td>0.15</td>\n",
       "      <td>NaN</td>\n",
       "      <td>NaN</td>\n",
       "    </tr>\n",
       "    <tr>\n",
       "      <th>2</th>\n",
       "      <td>AP001</td>\n",
       "      <td>24-11-2017 19:00</td>\n",
       "      <td>80.00</td>\n",
       "      <td>132.00</td>\n",
       "      <td>2.10</td>\n",
       "      <td>25.18</td>\n",
       "      <td>15.15</td>\n",
       "      <td>12.02</td>\n",
       "      <td>0.1</td>\n",
       "      <td>12.08</td>\n",
       "      <td>98.98</td>\n",
       "      <td>0.2</td>\n",
       "      <td>5.98</td>\n",
       "      <td>0.18</td>\n",
       "      <td>NaN</td>\n",
       "      <td>NaN</td>\n",
       "    </tr>\n",
       "    <tr>\n",
       "      <th>3</th>\n",
       "      <td>AP001</td>\n",
       "      <td>24-11-2017 20:00</td>\n",
       "      <td>81.50</td>\n",
       "      <td>133.25</td>\n",
       "      <td>1.95</td>\n",
       "      <td>16.25</td>\n",
       "      <td>10.23</td>\n",
       "      <td>11.58</td>\n",
       "      <td>0.1</td>\n",
       "      <td>10.47</td>\n",
       "      <td>112.20</td>\n",
       "      <td>0.2</td>\n",
       "      <td>6.72</td>\n",
       "      <td>0.10</td>\n",
       "      <td>NaN</td>\n",
       "      <td>NaN</td>\n",
       "    </tr>\n",
       "    <tr>\n",
       "      <th>4</th>\n",
       "      <td>AP001</td>\n",
       "      <td>24-11-2017 21:00</td>\n",
       "      <td>75.25</td>\n",
       "      <td>116.00</td>\n",
       "      <td>1.43</td>\n",
       "      <td>17.48</td>\n",
       "      <td>10.43</td>\n",
       "      <td>12.03</td>\n",
       "      <td>0.1</td>\n",
       "      <td>9.12</td>\n",
       "      <td>106.35</td>\n",
       "      <td>0.2</td>\n",
       "      <td>5.75</td>\n",
       "      <td>0.08</td>\n",
       "      <td>NaN</td>\n",
       "      <td>NaN</td>\n",
       "    </tr>\n",
       "  </tbody>\n",
       "</table>\n",
       "</div>"
      ],
      "text/plain": [
       "  StationId          Datetime  PM2.5    PM10    NO    NO2    NOx    NH3   CO  \\\n",
       "0     AP001  24-11-2017 17:00  60.50   98.00  2.35  30.80  18.25   8.50  0.1   \n",
       "1     AP001  24-11-2017 18:00  65.50  111.25  2.70  24.20  15.07   9.77  0.1   \n",
       "2     AP001  24-11-2017 19:00  80.00  132.00  2.10  25.18  15.15  12.02  0.1   \n",
       "3     AP001  24-11-2017 20:00  81.50  133.25  1.95  16.25  10.23  11.58  0.1   \n",
       "4     AP001  24-11-2017 21:00  75.25  116.00  1.43  17.48  10.43  12.03  0.1   \n",
       "\n",
       "     SO2      O3  Benzene  Toluene  Xylene  AQI AQI_Bucket  \n",
       "0  11.85  126.40      0.1     6.10    0.10  NaN        NaN  \n",
       "1  13.17  117.12      0.1     6.25    0.15  NaN        NaN  \n",
       "2  12.08   98.98      0.2     5.98    0.18  NaN        NaN  \n",
       "3  10.47  112.20      0.2     6.72    0.10  NaN        NaN  \n",
       "4   9.12  106.35      0.2     5.75    0.08  NaN        NaN  "
      ]
     },
     "execution_count": 216,
     "metadata": {},
     "output_type": "execute_result"
    }
   ],
   "source": [
    "station_hour.head()"
   ]
  },
  {
   "cell_type": "code",
   "execution_count": 217,
   "id": "4b7b7ee2",
   "metadata": {},
   "outputs": [
    {
     "data": {
      "text/plain": [
       "(1048575, 16)"
      ]
     },
     "execution_count": 217,
     "metadata": {},
     "output_type": "execute_result"
    }
   ],
   "source": [
    "station_hour.shape"
   ]
  },
  {
   "cell_type": "code",
   "execution_count": 218,
   "id": "0fa4ad3c",
   "metadata": {},
   "outputs": [
    {
     "data": {
      "text/plain": [
       "StationId          0\n",
       "Datetime           0\n",
       "PM2.5         248389\n",
       "PM10          342735\n",
       "NO            230649\n",
       "NO2           217132\n",
       "NOx           192672\n",
       "NH3           466777\n",
       "CO            221049\n",
       "SO2           384227\n",
       "O3            250488\n",
       "Benzene       346715\n",
       "Toluene       376388\n",
       "Xylene        835117\n",
       "AQI           239544\n",
       "AQI_Bucket    239544\n",
       "dtype: int64"
      ]
     },
     "execution_count": 218,
     "metadata": {},
     "output_type": "execute_result"
    }
   ],
   "source": [
    "station_hour.isnull().sum()"
   ]
  },
  {
   "cell_type": "markdown",
   "id": "a570b512",
   "metadata": {},
   "source": [
    "### we are going to fill the null values with 'ffill' method"
   ]
  },
  {
   "cell_type": "code",
   "execution_count": 219,
   "id": "1320d67d",
   "metadata": {},
   "outputs": [],
   "source": [
    "station_hour['PM2.5'].fillna(method = 'ffill',inplace = True)\n",
    "station_hour['PM10'].fillna(method = 'ffill',inplace = True)\n",
    "station_hour['NO'].fillna(method = 'ffill',inplace = True)\n",
    "station_hour['NO2'].fillna(method = 'ffill',inplace = True)\n",
    "station_hour['NOx'].fillna(method = 'ffill',inplace = True)\n",
    "station_hour['NH3'].fillna(method = 'ffill',inplace = True)\n",
    "station_hour['CO'].fillna(method = 'ffill',inplace = True)\n",
    "station_hour['SO2'].fillna(method = 'ffill',inplace = True)\n",
    "station_hour['O3'].fillna(method = 'ffill',inplace = True)\n",
    "station_hour['Benzene'].fillna(method = 'ffill',inplace = True)\n",
    "station_hour['Toluene'].fillna(method = 'ffill',inplace = True)\n",
    "station_hour['Xylene'].fillna(method = 'ffill',inplace = True)"
   ]
  },
  {
   "cell_type": "code",
   "execution_count": 220,
   "id": "92e2fcde",
   "metadata": {},
   "outputs": [
    {
     "data": {
      "text/plain": [
       "StationId          0\n",
       "Datetime           0\n",
       "PM2.5              0\n",
       "PM10               0\n",
       "NO                 0\n",
       "NO2                0\n",
       "NOx                0\n",
       "NH3                0\n",
       "CO                 0\n",
       "SO2                0\n",
       "O3                 0\n",
       "Benzene            0\n",
       "Toluene            0\n",
       "Xylene             0\n",
       "AQI           239544\n",
       "AQI_Bucket    239544\n",
       "dtype: int64"
      ]
     },
     "execution_count": 220,
     "metadata": {},
     "output_type": "execute_result"
    }
   ],
   "source": [
    "station_hour.isnull().sum()"
   ]
  },
  {
   "cell_type": "code",
   "execution_count": 221,
   "id": "0c3a50e0",
   "metadata": {},
   "outputs": [
    {
     "data": {
      "text/html": [
       "<div>\n",
       "<style scoped>\n",
       "    .dataframe tbody tr th:only-of-type {\n",
       "        vertical-align: middle;\n",
       "    }\n",
       "\n",
       "    .dataframe tbody tr th {\n",
       "        vertical-align: top;\n",
       "    }\n",
       "\n",
       "    .dataframe thead th {\n",
       "        text-align: right;\n",
       "    }\n",
       "</style>\n",
       "<table border=\"1\" class=\"dataframe\">\n",
       "  <thead>\n",
       "    <tr style=\"text-align: right;\">\n",
       "      <th></th>\n",
       "      <th>StationId</th>\n",
       "      <th>Datetime</th>\n",
       "      <th>PM2.5</th>\n",
       "      <th>PM10</th>\n",
       "      <th>NO</th>\n",
       "      <th>NO2</th>\n",
       "      <th>NOx</th>\n",
       "      <th>NH3</th>\n",
       "      <th>CO</th>\n",
       "      <th>SO2</th>\n",
       "      <th>O3</th>\n",
       "      <th>Benzene</th>\n",
       "      <th>Toluene</th>\n",
       "      <th>Xylene</th>\n",
       "      <th>AQI</th>\n",
       "      <th>AQI_Bucket</th>\n",
       "    </tr>\n",
       "  </thead>\n",
       "  <tbody>\n",
       "    <tr>\n",
       "      <th>count</th>\n",
       "      <td>1048575</td>\n",
       "      <td>1048575</td>\n",
       "      <td>1.048575e+06</td>\n",
       "      <td>1.048575e+06</td>\n",
       "      <td>1.048575e+06</td>\n",
       "      <td>1.048575e+06</td>\n",
       "      <td>1.048575e+06</td>\n",
       "      <td>1.048575e+06</td>\n",
       "      <td>1.048575e+06</td>\n",
       "      <td>1.048575e+06</td>\n",
       "      <td>1.048575e+06</td>\n",
       "      <td>1.048575e+06</td>\n",
       "      <td>1.048575e+06</td>\n",
       "      <td>1.048575e+06</td>\n",
       "      <td>809031.000000</td>\n",
       "      <td>809031</td>\n",
       "    </tr>\n",
       "    <tr>\n",
       "      <th>unique</th>\n",
       "      <td>42</td>\n",
       "      <td>48192</td>\n",
       "      <td>NaN</td>\n",
       "      <td>NaN</td>\n",
       "      <td>NaN</td>\n",
       "      <td>NaN</td>\n",
       "      <td>NaN</td>\n",
       "      <td>NaN</td>\n",
       "      <td>NaN</td>\n",
       "      <td>NaN</td>\n",
       "      <td>NaN</td>\n",
       "      <td>NaN</td>\n",
       "      <td>NaN</td>\n",
       "      <td>NaN</td>\n",
       "      <td>NaN</td>\n",
       "      <td>6</td>\n",
       "    </tr>\n",
       "    <tr>\n",
       "      <th>top</th>\n",
       "      <td>DL008</td>\n",
       "      <td>21-05-2020 17:00</td>\n",
       "      <td>NaN</td>\n",
       "      <td>NaN</td>\n",
       "      <td>NaN</td>\n",
       "      <td>NaN</td>\n",
       "      <td>NaN</td>\n",
       "      <td>NaN</td>\n",
       "      <td>NaN</td>\n",
       "      <td>NaN</td>\n",
       "      <td>NaN</td>\n",
       "      <td>NaN</td>\n",
       "      <td>NaN</td>\n",
       "      <td>NaN</td>\n",
       "      <td>NaN</td>\n",
       "      <td>Moderate</td>\n",
       "    </tr>\n",
       "    <tr>\n",
       "      <th>freq</th>\n",
       "      <td>48192</td>\n",
       "      <td>40</td>\n",
       "      <td>NaN</td>\n",
       "      <td>NaN</td>\n",
       "      <td>NaN</td>\n",
       "      <td>NaN</td>\n",
       "      <td>NaN</td>\n",
       "      <td>NaN</td>\n",
       "      <td>NaN</td>\n",
       "      <td>NaN</td>\n",
       "      <td>NaN</td>\n",
       "      <td>NaN</td>\n",
       "      <td>NaN</td>\n",
       "      <td>NaN</td>\n",
       "      <td>NaN</td>\n",
       "      <td>263287</td>\n",
       "    </tr>\n",
       "    <tr>\n",
       "      <th>mean</th>\n",
       "      <td>NaN</td>\n",
       "      <td>NaN</td>\n",
       "      <td>1.037582e+02</td>\n",
       "      <td>1.840226e+02</td>\n",
       "      <td>3.177905e+01</td>\n",
       "      <td>4.247370e+01</td>\n",
       "      <td>5.225320e+01</td>\n",
       "      <td>3.357030e+01</td>\n",
       "      <td>1.405888e+00</td>\n",
       "      <td>1.431761e+01</td>\n",
       "      <td>4.560102e+01</td>\n",
       "      <td>3.586940e+00</td>\n",
       "      <td>3.132507e+01</td>\n",
       "      <td>8.985887e-01</td>\n",
       "      <td>226.952556</td>\n",
       "      <td>NaN</td>\n",
       "    </tr>\n",
       "    <tr>\n",
       "      <th>std</th>\n",
       "      <td>NaN</td>\n",
       "      <td>NaN</td>\n",
       "      <td>1.003599e+02</td>\n",
       "      <td>1.490169e+02</td>\n",
       "      <td>6.234017e+01</td>\n",
       "      <td>4.020675e+01</td>\n",
       "      <td>7.273229e+01</td>\n",
       "      <td>2.817129e+01</td>\n",
       "      <td>2.449075e+00</td>\n",
       "      <td>1.203288e+01</td>\n",
       "      <td>7.757408e+01</td>\n",
       "      <td>6.409659e+00</td>\n",
       "      <td>4.728984e+01</td>\n",
       "      <td>5.826560e+00</td>\n",
       "      <td>133.207479</td>\n",
       "      <td>NaN</td>\n",
       "    </tr>\n",
       "    <tr>\n",
       "      <th>min</th>\n",
       "      <td>NaN</td>\n",
       "      <td>NaN</td>\n",
       "      <td>1.000000e-02</td>\n",
       "      <td>1.000000e-02</td>\n",
       "      <td>1.000000e-02</td>\n",
       "      <td>1.000000e-02</td>\n",
       "      <td>0.000000e+00</td>\n",
       "      <td>1.000000e-02</td>\n",
       "      <td>0.000000e+00</td>\n",
       "      <td>1.000000e-02</td>\n",
       "      <td>1.000000e-02</td>\n",
       "      <td>0.000000e+00</td>\n",
       "      <td>0.000000e+00</td>\n",
       "      <td>0.000000e+00</td>\n",
       "      <td>16.000000</td>\n",
       "      <td>NaN</td>\n",
       "    </tr>\n",
       "    <tr>\n",
       "      <th>25%</th>\n",
       "      <td>NaN</td>\n",
       "      <td>NaN</td>\n",
       "      <td>4.100000e+01</td>\n",
       "      <td>8.400000e+01</td>\n",
       "      <td>4.000000e+00</td>\n",
       "      <td>1.629000e+01</td>\n",
       "      <td>1.415000e+01</td>\n",
       "      <td>1.912000e+01</td>\n",
       "      <td>5.000000e-01</td>\n",
       "      <td>7.620000e+00</td>\n",
       "      <td>1.097000e+01</td>\n",
       "      <td>3.000000e-01</td>\n",
       "      <td>6.200000e-01</td>\n",
       "      <td>0.000000e+00</td>\n",
       "      <td>114.000000</td>\n",
       "      <td>NaN</td>\n",
       "    </tr>\n",
       "    <tr>\n",
       "      <th>50%</th>\n",
       "      <td>NaN</td>\n",
       "      <td>NaN</td>\n",
       "      <td>6.750000e+01</td>\n",
       "      <td>1.372500e+02</td>\n",
       "      <td>9.980000e+00</td>\n",
       "      <td>3.075000e+01</td>\n",
       "      <td>2.748000e+01</td>\n",
       "      <td>2.838000e+01</td>\n",
       "      <td>9.500000e-01</td>\n",
       "      <td>1.192000e+01</td>\n",
       "      <td>2.621000e+01</td>\n",
       "      <td>1.700000e+00</td>\n",
       "      <td>8.470000e+00</td>\n",
       "      <td>0.000000e+00</td>\n",
       "      <td>198.000000</td>\n",
       "      <td>NaN</td>\n",
       "    </tr>\n",
       "    <tr>\n",
       "      <th>75%</th>\n",
       "      <td>NaN</td>\n",
       "      <td>NaN</td>\n",
       "      <td>1.382500e+02</td>\n",
       "      <td>2.337150e+02</td>\n",
       "      <td>2.577000e+01</td>\n",
       "      <td>5.490000e+01</td>\n",
       "      <td>5.703000e+01</td>\n",
       "      <td>4.055000e+01</td>\n",
       "      <td>1.520000e+00</td>\n",
       "      <td>1.835000e+01</td>\n",
       "      <td>4.998000e+01</td>\n",
       "      <td>6.100000e+00</td>\n",
       "      <td>4.093000e+01</td>\n",
       "      <td>1.000000e-01</td>\n",
       "      <td>320.000000</td>\n",
       "      <td>NaN</td>\n",
       "    </tr>\n",
       "    <tr>\n",
       "      <th>max</th>\n",
       "      <td>NaN</td>\n",
       "      <td>NaN</td>\n",
       "      <td>1.000000e+03</td>\n",
       "      <td>1.000000e+03</td>\n",
       "      <td>5.000000e+02</td>\n",
       "      <td>4.999700e+02</td>\n",
       "      <td>5.000000e+02</td>\n",
       "      <td>4.941100e+02</td>\n",
       "      <td>5.000000e+01</td>\n",
       "      <td>1.997700e+02</td>\n",
       "      <td>9.970000e+02</td>\n",
       "      <td>4.915100e+02</td>\n",
       "      <td>4.998000e+02</td>\n",
       "      <td>4.763100e+02</td>\n",
       "      <td>1113.000000</td>\n",
       "      <td>NaN</td>\n",
       "    </tr>\n",
       "  </tbody>\n",
       "</table>\n",
       "</div>"
      ],
      "text/plain": [
       "       StationId          Datetime         PM2.5          PM10            NO  \\\n",
       "count    1048575           1048575  1.048575e+06  1.048575e+06  1.048575e+06   \n",
       "unique        42             48192           NaN           NaN           NaN   \n",
       "top        DL008  21-05-2020 17:00           NaN           NaN           NaN   \n",
       "freq       48192                40           NaN           NaN           NaN   \n",
       "mean         NaN               NaN  1.037582e+02  1.840226e+02  3.177905e+01   \n",
       "std          NaN               NaN  1.003599e+02  1.490169e+02  6.234017e+01   \n",
       "min          NaN               NaN  1.000000e-02  1.000000e-02  1.000000e-02   \n",
       "25%          NaN               NaN  4.100000e+01  8.400000e+01  4.000000e+00   \n",
       "50%          NaN               NaN  6.750000e+01  1.372500e+02  9.980000e+00   \n",
       "75%          NaN               NaN  1.382500e+02  2.337150e+02  2.577000e+01   \n",
       "max          NaN               NaN  1.000000e+03  1.000000e+03  5.000000e+02   \n",
       "\n",
       "                 NO2           NOx           NH3            CO           SO2  \\\n",
       "count   1.048575e+06  1.048575e+06  1.048575e+06  1.048575e+06  1.048575e+06   \n",
       "unique           NaN           NaN           NaN           NaN           NaN   \n",
       "top              NaN           NaN           NaN           NaN           NaN   \n",
       "freq             NaN           NaN           NaN           NaN           NaN   \n",
       "mean    4.247370e+01  5.225320e+01  3.357030e+01  1.405888e+00  1.431761e+01   \n",
       "std     4.020675e+01  7.273229e+01  2.817129e+01  2.449075e+00  1.203288e+01   \n",
       "min     1.000000e-02  0.000000e+00  1.000000e-02  0.000000e+00  1.000000e-02   \n",
       "25%     1.629000e+01  1.415000e+01  1.912000e+01  5.000000e-01  7.620000e+00   \n",
       "50%     3.075000e+01  2.748000e+01  2.838000e+01  9.500000e-01  1.192000e+01   \n",
       "75%     5.490000e+01  5.703000e+01  4.055000e+01  1.520000e+00  1.835000e+01   \n",
       "max     4.999700e+02  5.000000e+02  4.941100e+02  5.000000e+01  1.997700e+02   \n",
       "\n",
       "                  O3       Benzene       Toluene        Xylene            AQI  \\\n",
       "count   1.048575e+06  1.048575e+06  1.048575e+06  1.048575e+06  809031.000000   \n",
       "unique           NaN           NaN           NaN           NaN            NaN   \n",
       "top              NaN           NaN           NaN           NaN            NaN   \n",
       "freq             NaN           NaN           NaN           NaN            NaN   \n",
       "mean    4.560102e+01  3.586940e+00  3.132507e+01  8.985887e-01     226.952556   \n",
       "std     7.757408e+01  6.409659e+00  4.728984e+01  5.826560e+00     133.207479   \n",
       "min     1.000000e-02  0.000000e+00  0.000000e+00  0.000000e+00      16.000000   \n",
       "25%     1.097000e+01  3.000000e-01  6.200000e-01  0.000000e+00     114.000000   \n",
       "50%     2.621000e+01  1.700000e+00  8.470000e+00  0.000000e+00     198.000000   \n",
       "75%     4.998000e+01  6.100000e+00  4.093000e+01  1.000000e-01     320.000000   \n",
       "max     9.970000e+02  4.915100e+02  4.998000e+02  4.763100e+02    1113.000000   \n",
       "\n",
       "       AQI_Bucket  \n",
       "count      809031  \n",
       "unique          6  \n",
       "top      Moderate  \n",
       "freq       263287  \n",
       "mean          NaN  \n",
       "std           NaN  \n",
       "min           NaN  \n",
       "25%           NaN  \n",
       "50%           NaN  \n",
       "75%           NaN  \n",
       "max           NaN  "
      ]
     },
     "execution_count": 221,
     "metadata": {},
     "output_type": "execute_result"
    }
   ],
   "source": [
    "station_hour.describe(include='all')"
   ]
  },
  {
   "cell_type": "code",
   "execution_count": 222,
   "id": "adb8e80d",
   "metadata": {},
   "outputs": [],
   "source": [
    "station_hour.fillna({'AQI':226.952556},inplace = True)"
   ]
  },
  {
   "cell_type": "code",
   "execution_count": 223,
   "id": "1066c4b1",
   "metadata": {},
   "outputs": [
    {
     "data": {
      "text/plain": [
       "StationId          0\n",
       "Datetime           0\n",
       "PM2.5              0\n",
       "PM10               0\n",
       "NO                 0\n",
       "NO2                0\n",
       "NOx                0\n",
       "NH3                0\n",
       "CO                 0\n",
       "SO2                0\n",
       "O3                 0\n",
       "Benzene            0\n",
       "Toluene            0\n",
       "Xylene             0\n",
       "AQI                0\n",
       "AQI_Bucket    239544\n",
       "dtype: int64"
      ]
     },
     "execution_count": 223,
     "metadata": {},
     "output_type": "execute_result"
    }
   ],
   "source": [
    "station_hour.isnull().sum()"
   ]
  },
  {
   "cell_type": "markdown",
   "id": "4f9ea71a",
   "metadata": {},
   "source": [
    "### Now we can see all missing values are filled with 'ffill' method"
   ]
  },
  {
   "cell_type": "markdown",
   "id": "1119aaf6",
   "metadata": {},
   "source": [
    "## 5.stations"
   ]
  },
  {
   "cell_type": "code",
   "execution_count": 224,
   "id": "1b80d2b2",
   "metadata": {},
   "outputs": [],
   "source": [
    "#....................................................................."
   ]
  },
  {
   "cell_type": "markdown",
   "id": "ebeff735",
   "metadata": {},
   "source": [
    "## Finding the correlation between features and Target values"
   ]
  },
  {
   "cell_type": "code",
   "execution_count": 225,
   "id": "dbc6f2d9",
   "metadata": {},
   "outputs": [
    {
     "data": {
      "text/plain": [
       "<AxesSubplot:xlabel='PM2.5', ylabel='AQI'>"
      ]
     },
     "execution_count": 225,
     "metadata": {},
     "output_type": "execute_result"
    },
    {
     "data": {
      "image/png": "[encoded data removed]",
      "text/plain": [
       "<Figure size 432x288 with 1 Axes>"
      ]
     },
     "metadata": {
      "needs_background": "light"
     },
     "output_type": "display_data"
    }
   ],
   "source": [
    "sns.regplot(x = 'PM2.5', y = 'AQI',data=city_day)"
   ]
  },
  {
   "cell_type": "code",
   "execution_count": 226,
   "id": "5a125c55",
   "metadata": {},
   "outputs": [
    {
     "data": {
      "text/plain": [
       "<AxesSubplot:xlabel='PM10', ylabel='AQI'>"
      ]
     },
     "execution_count": 226,
     "metadata": {},
     "output_type": "execute_result"
    },
    {
     "data": {
      "image/png": "[encoded data removed]",
      "text/plain": [
       "<Figure size 432x288 with 1 Axes>"
      ]
     },
     "metadata": {
      "needs_background": "light"
     },
     "output_type": "display_data"
    }
   ],
   "source": [
    "sns.regplot(x = 'PM10', y = 'AQI',data=city_day)"
   ]
  },
  {
   "cell_type": "code",
   "execution_count": 227,
   "id": "0ecef4ae",
   "metadata": {},
   "outputs": [
    {
     "data": {
      "text/plain": [
       "<AxesSubplot:xlabel='NO', ylabel='AQI'>"
      ]
     },
     "execution_count": 227,
     "metadata": {},
     "output_type": "execute_result"
    },
    {
     "data": {
      "image/png": "[encoded data removed]",
      "text/plain": [
       "<Figure size 432x288 with 1 Axes>"
      ]
     },
     "metadata": {
      "needs_background": "light"
     },
     "output_type": "display_data"
    }
   ],
   "source": [
    "sns.regplot(x = 'NO', y = 'AQI',data=city_day)"
   ]
  },
  {
   "cell_type": "code",
   "execution_count": 228,
   "id": "4519b9d1",
   "metadata": {},
   "outputs": [
    {
     "data": {
      "text/plain": [
       "<AxesSubplot:xlabel='NO2', ylabel='AQI'>"
      ]
     },
     "execution_count": 228,
     "metadata": {},
     "output_type": "execute_result"
    },
    {
     "data": {
      "image/png": "[encoded data removed]",
      "text/plain": [
       "<Figure size 432x288 with 1 Axes>"
      ]
     },
     "metadata": {
      "needs_background": "light"
     },
     "output_type": "display_data"
    }
   ],
   "source": [
    "sns.regplot(x = 'NO2', y = 'AQI',data=city_day)"
   ]
  },
  {
   "cell_type": "code",
   "execution_count": 229,
   "id": "c02f6fdf",
   "metadata": {},
   "outputs": [
    {
     "data": {
      "text/plain": [
       "<AxesSubplot:xlabel='NOx', ylabel='AQI'>"
      ]
     },
     "execution_count": 229,
     "metadata": {},
     "output_type": "execute_result"
    },
    {
     "data": {
      "image/png": "[encoded data removed]",
      "text/plain": [
       "<Figure size 432x288 with 1 Axes>"
      ]
     },
     "metadata": {
      "needs_background": "light"
     },
     "output_type": "display_data"
    }
   ],
   "source": [
    "sns.regplot(x = 'NOx', y = 'AQI',data=city_day)"
   ]
  },
  {
   "cell_type": "code",
   "execution_count": 230,
   "id": "a794c02c",
   "metadata": {},
   "outputs": [
    {
     "data": {
      "text/plain": [
       "<AxesSubplot:xlabel='NH3', ylabel='AQI'>"
      ]
     },
     "execution_count": 230,
     "metadata": {},
     "output_type": "execute_result"
    },
    {
     "data": {
      "image/png": "[encoded data removed]",
      "text/plain": [
       "<Figure size 432x288 with 1 Axes>"
      ]
     },
     "metadata": {
      "needs_background": "light"
     },
     "output_type": "display_data"
    }
   ],
   "source": [
    "sns.regplot(x = 'NH3', y = 'AQI',data=city_day)"
   ]
  },
  {
   "cell_type": "code",
   "execution_count": 231,
   "id": "bd5c14ff",
   "metadata": {},
   "outputs": [
    {
     "data": {
      "text/plain": [
       "<AxesSubplot:xlabel='CO', ylabel='AQI'>"
      ]
     },
     "execution_count": 231,
     "metadata": {},
     "output_type": "execute_result"
    },
    {
     "data": {
      "image/png": "[encoded data removed]",
      "text/plain": [
       "<Figure size 432x288 with 1 Axes>"
      ]
     },
     "metadata": {
      "needs_background": "light"
     },
     "output_type": "display_data"
    }
   ],
   "source": [
    "sns.regplot(x = 'CO', y = 'AQI',data=city_day)"
   ]
  },
  {
   "cell_type": "code",
   "execution_count": 232,
   "id": "4f9507e8",
   "metadata": {},
   "outputs": [
    {
     "data": {
      "text/plain": [
       "<AxesSubplot:xlabel='SO2', ylabel='AQI'>"
      ]
     },
     "execution_count": 232,
     "metadata": {},
     "output_type": "execute_result"
    },
    {
     "data": {
      "image/png": "[encoded data removed]",
      "text/plain": [
       "<Figure size 432x288 with 1 Axes>"
      ]
     },
     "metadata": {
      "needs_background": "light"
     },
     "output_type": "display_data"
    }
   ],
   "source": [
    "sns.regplot(x = 'SO2', y = 'AQI',data=city_day)"
   ]
  },
  {
   "cell_type": "code",
   "execution_count": 233,
   "id": "74a0ce1d",
   "metadata": {},
   "outputs": [
    {
     "data": {
      "text/plain": [
       "<AxesSubplot:xlabel='O3', ylabel='AQI'>"
      ]
     },
     "execution_count": 233,
     "metadata": {},
     "output_type": "execute_result"
    },
    {
     "data": {
      "image/png": "[encoded data removed]",
      "text/plain": [
       "<Figure size 432x288 with 1 Axes>"
      ]
     },
     "metadata": {
      "needs_background": "light"
     },
     "output_type": "display_data"
    }
   ],
   "source": [
    "sns.regplot(x = 'O3', y = 'AQI',data=city_day)"
   ]
  },
  {
   "cell_type": "code",
   "execution_count": 234,
   "id": "b482e7a3",
   "metadata": {},
   "outputs": [
    {
     "data": {
      "text/plain": [
       "<AxesSubplot:xlabel='Benzene', ylabel='AQI'>"
      ]
     },
     "execution_count": 234,
     "metadata": {},
     "output_type": "execute_result"
    },
    {
     "data": {
      "image/png": "[encoded data removed]",
      "text/plain": [
       "<Figure size 432x288 with 1 Axes>"
      ]
     },
     "metadata": {
      "needs_background": "light"
     },
     "output_type": "display_data"
    }
   ],
   "source": [
    "sns.regplot(x = 'Benzene', y = 'AQI',data=city_day)"
   ]
  },
  {
   "cell_type": "code",
   "execution_count": 235,
   "id": "7862b4f5",
   "metadata": {},
   "outputs": [
    {
     "data": {
      "text/plain": [
       "<AxesSubplot:xlabel='Toluene', ylabel='AQI'>"
      ]
     },
     "execution_count": 235,
     "metadata": {},
     "output_type": "execute_result"
    },
    {
     "data": {
      "image/png": "[encoded data removed]",
      "text/plain": [
       "<Figure size 432x288 with 1 Axes>"
      ]
     },
     "metadata": {
      "needs_background": "light"
     },
     "output_type": "display_data"
    }
   ],
   "source": [
    "sns.regplot(x = 'Toluene', y = 'AQI',data=city_day)"
   ]
  },
  {
   "cell_type": "code",
   "execution_count": 236,
   "id": "3faf9b15",
   "metadata": {},
   "outputs": [
    {
     "data": {
      "text/plain": [
       "<AxesSubplot:xlabel='Xylene', ylabel='AQI'>"
      ]
     },
     "execution_count": 236,
     "metadata": {},
     "output_type": "execute_result"
    },
    {
     "data": {
      "image/png": "[encoded data removed]",
      "text/plain": [
       "<Figure size 432x288 with 1 Axes>"
      ]
     },
     "metadata": {
      "needs_background": "light"
     },
     "output_type": "display_data"
    }
   ],
   "source": [
    "sns.regplot(x = 'Xylene', y = 'AQI',data=city_day)"
   ]
  },
  {
   "cell_type": "markdown",
   "id": "ff0bf404",
   "metadata": {},
   "source": [
    "## As we have seen here there is no such feature in city_day data set which have weak relation with the target value, so we can't remove any feauture with this data set."
   ]
  },
  {
   "cell_type": "markdown",
   "id": "d5464428",
   "metadata": {},
   "source": [
    "## As we know all the features are included in all datasets, And all features are effect the target value then we cannot remove any feature from any datase"
   ]
  },
  {
   "cell_type": "code",
   "execution_count": null,
   "id": "108acbdc",
   "metadata": {},
   "outputs": [],
   "source": []
  }
 ],
 "metadata": {
  "kernelspec": {
   "display_name": "Python 3",
   "language": "python",
   "name": "python3"
  },
  "language_info": {
   "codemirror_mode": {
    "name": "ipython",
    "version": 3
   },
   "file_extension": ".py",
   "mimetype": "text/x-python",
   "name": "python",
   "nbconvert_exporter": "python",
   "pygments_lexer": "ipython3",
   "version": "3.8.8"
  }
 },
 "nbformat": 4,
 "nbformat_minor": 5
}
